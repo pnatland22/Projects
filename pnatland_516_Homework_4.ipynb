{
 "cells": [
  {
   "cell_type": "markdown",
   "metadata": {},
   "source": [
    "# SIADS 516 Homework 4: Spark SQL\n",
    "Version 1.0.20200221.1\n",
    "### Dr. Chris Teplovs, School of Information, University of Michigan\n",
    "<small><a rel=\"license\" href=\"http://creativecommons.org/licenses/by-nc-sa/4.0/\"><img alt=\"Creative Commons License\" style=\"border-width:0\" src=\"https://i.creativecommons.org/l/by-nc-sa/4.0/88x31.png\" /></a>This work is licensed under a <a rel=\"license\" href=\"http://creativecommons.org/licenses/by-nc-sa/4.0/\">Creative Commons Attribution-NonCommercial-ShareAlike 4.0 International License</a>."
   ]
  },
  {
   "cell_type": "code",
   "execution_count": 1,
   "metadata": {},
   "outputs": [
    {
     "data": {
      "text/plain": [
       "'\\nNAME: Paul Natland\\n'"
      ]
     },
     "execution_count": 1,
     "metadata": {},
     "output_type": "execute_result"
    }
   ],
   "source": [
    "\"\"\"\n",
    "NAME: Paul Natland\n",
    "\"\"\""
   ]
  },
  {
   "cell_type": "markdown",
   "metadata": {},
   "source": [
    "------------------------------------------------------------------------------------------------------------------------------\n",
    "#### <font color=\"blue\">__ACKNOWLEDGEMENTS:__ I benefitted from class notebooks and lectures, searches on Stack Overflow, and conversations in SLACK</font>\n",
    "------------------------------------------------------------------------------------------------------------------------------"
   ]
  },
  {
   "cell_type": "markdown",
   "metadata": {},
   "source": [
    "This homework assignment uses the Yelp Academic dataset, with which you should now be familiar.\n",
    "We have created a few cells to get you started, but you're largely on your own to devise solutions to the\n",
    "\"real-world\" questions below.\n",
    "\n",
    "The best solutions will use spark.sql() calls as a preferred way to query the dataset and also use the fewest number of steps.  For example, to find the answer to \"How many users have more than 100 \"cool\" votes?\", this:\n",
    "```\n",
    "query = \"\"\"\n",
    "SELECT count(*) FROM user WHERE cool > 100\n",
    "\"\"\"\n",
    "spark.sql(query).show()\n",
    "```\n",
    "is preferable to:\n",
    "```\n",
    "user.filter('cool > 100').show()\n",
    "```\n",
    "or \n",
    "```\n",
    "query = \"\"\"\n",
    "SELECT * FROM user\n",
    "\"\"\"\n",
    "df = spark.sql(query)\n",
    "df.filter('cool > 100').show()\n",
    "```\n",
    "(Note that the last number is somewhat ridiculous.)"
   ]
  },
  {
   "cell_type": "markdown",
   "metadata": {},
   "source": [
    "## Imports"
   ]
  },
  {
   "cell_type": "code",
   "execution_count": 2,
   "metadata": {},
   "outputs": [],
   "source": [
    "import re\n",
    "    #to use regex for word extraction\n",
    "    \n",
    "from pyspark.sql import SparkSession\n",
    "    #to establish the sparksession\n",
    "    \n",
    "from pyspark.sql.functions import udf\n",
    "    #to call fonctions on columns\n",
    "\n",
    "from pyspark.sql.types import IntegerType, StringType, ArrayType\n",
    "    #to explicitly state output value types in udf's"
   ]
  },
  {
   "cell_type": "markdown",
   "metadata": {},
   "source": [
    "Our usual Spark mantra:"
   ]
  },
  {
   "cell_type": "code",
   "execution_count": 3,
   "metadata": {},
   "outputs": [],
   "source": [
    "spark = SparkSession \\\n",
    "    .builder \\\n",
    "    .master(\"local[*]\") \\\n",
    "    .appName('SIADS 516 -- HW4') \\\n",
    "    .getOrCreate() \n",
    "\n",
    "sc = spark.sparkContext"
   ]
  },
  {
   "cell_type": "markdown",
   "metadata": {},
   "source": [
    "Load the JSON files:"
   ]
  },
  {
   "cell_type": "code",
   "execution_count": 4,
   "metadata": {},
   "outputs": [],
   "source": [
    "business = spark.read.json('data/yelp_academic/yelp_academic_dataset_business.json.gz')\n",
    "checkin = spark.read.json('data/yelp_academic/yelp_academic_dataset_checkin.json.gz')\n",
    "review = spark.read.json('data/yelp_academic/yelp_academic_dataset_review.json.gz')\n",
    "tip = spark.read.json('data/yelp_academic/yelp_academic_dataset_tip.json.gz')\n",
    "user = spark.read.json('data/yelp_academic/yelp_academic_dataset_user.json.gz')"
   ]
  },
  {
   "cell_type": "markdown",
   "metadata": {},
   "source": [
    "Create temp views for the DataFrames:"
   ]
  },
  {
   "cell_type": "code",
   "execution_count": 5,
   "metadata": {},
   "outputs": [],
   "source": [
    "business.createOrReplaceTempView(\"business\")\n",
    "checkin.createOrReplaceTempView(\"checkin\")\n",
    "tip.createOrReplaceTempView(\"tip\")\n",
    "review.createOrReplaceTempView(\"review\")\n",
    "user.createOrReplaceTempView(\"user\")"
   ]
  },
  {
   "cell_type": "markdown",
   "metadata": {},
   "source": [
    "## <font color=\"magenta\">Q1. How many users have more than 500 fans?</font>"
   ]
  },
  {
   "cell_type": "code",
   "execution_count": 6,
   "metadata": {
    "scrolled": false
   },
   "outputs": [
    {
     "data": {
      "text/plain": [
       "185"
      ]
     },
     "execution_count": 6,
     "metadata": {},
     "output_type": "execute_result"
    }
   ],
   "source": [
    "query_1 = \\\n",
    "\"\"\"SELECT name,fans FROM user WHERE fans > 500\"\"\"\n",
    "    \n",
    "spark.sql(query_1).count()"
   ]
  },
  {
   "cell_type": "code",
   "execution_count": 7,
   "metadata": {},
   "outputs": [
    {
     "name": "stdout",
     "output_type": "stream",
     "text": [
      "+-------+----+\n",
      "|   name|fans|\n",
      "+-------+----+\n",
      "|  Keane| 696|\n",
      "|Michael| 912|\n",
      "|    Ann|1055|\n",
      "|  Scott| 587|\n",
      "|   Elsa| 649|\n",
      "| Denise| 545|\n",
      "|   Jack|1500|\n",
      "|   Dave|1010|\n",
      "|Jessica| 544|\n",
      "|   Cara|1150|\n",
      "+-------+----+\n",
      "only showing top 10 rows\n",
      "\n"
     ]
    }
   ],
   "source": [
    "#sampling the query to check it yields the correct results\n",
    "spark.sql(query_1).show(10)"
   ]
  },
  {
   "cell_type": "markdown",
   "metadata": {},
   "source": [
    "## <font color=\"magenta\">Q2. How many businesses from Madison, Wisconsin are represented in the dataset?</font>"
   ]
  },
  {
   "cell_type": "code",
   "execution_count": 8,
   "metadata": {},
   "outputs": [
    {
     "data": {
      "text/plain": [
       "3493"
      ]
     },
     "execution_count": 8,
     "metadata": {},
     "output_type": "execute_result"
    }
   ],
   "source": [
    "query_2 = \\\n",
    "\"\"\" \n",
    "    SELECT name,city,state \n",
    "    FROM business \n",
    "    WHERE city = 'Madison' and state = 'WI'\n",
    "\"\"\"\n",
    "    \n",
    "spark.sql(query_2).count()"
   ]
  },
  {
   "cell_type": "code",
   "execution_count": 9,
   "metadata": {},
   "outputs": [
    {
     "name": "stdout",
     "output_type": "stream",
     "text": [
      "+--------------------+-------+-----+\n",
      "|                name|   city|state|\n",
      "+--------------------+-------+-----+\n",
      "|     Kirsty Blattner|Madison|   WI|\n",
      "|       QBE Insurance|Madison|   WI|\n",
      "|Habitat For Human...|Madison|   WI|\n",
      "|             Wendy's|Madison|   WI|\n",
      "| Susan Hughes Design|Madison|   WI|\n",
      "+--------------------+-------+-----+\n",
      "only showing top 5 rows\n",
      "\n"
     ]
    }
   ],
   "source": [
    "#sampling the query to check it yields the correct results\n",
    "spark.sql(query_2).show(5)"
   ]
  },
  {
   "cell_type": "markdown",
   "metadata": {},
   "source": [
    "## <font color=\"magenta\">Q3: How many users have more than 500 fans?</font>"
   ]
  },
  {
   "cell_type": "markdown",
   "metadata": {
    "scrolled": false
   },
   "source": [
    "> __SEE Q1 :)__"
   ]
  },
  {
   "cell_type": "markdown",
   "metadata": {},
   "source": [
    "## <font color=\"magenta\">Q4: Which US states are represented in the data set?  Use full names of states.</font>"
   ]
  },
  {
   "cell_type": "code",
   "execution_count": 10,
   "metadata": {},
   "outputs": [],
   "source": [
    "states = {\"AL\":\"Alabama\",\"AK\":\"Alaska\",\"AZ\":\"Arizona\",\"AR\":\"Arkansas\",\"CA\":\"California\",\"CO\":\"Colorado\",\n",
    "          \"CT\":\"Connecticut\",\"DE\":\"Delaware\",\"FL\":\"Florida\",\"GA\":\"Georgia\",\"HI\":\"Hawaii\",\"ID\":\"Idaho\",\n",
    "          \"IL\":\"Illinois\",\"IN\":\"Indiana\",\"IA\":\"Iowa\",\"KS\":\"Kansas\",\"KY\":\"Kentucky\",\"LA\":\"Louisiana\",\n",
    "          \"ME\":\"Maine\",\"MD\":\"Maryland\",\"MA\":\"Massachusetts\",\"MI\":\"Michigan\",\"MN\":\"Minnesota\",\"MS\":\"Mississippi\",\n",
    "          \"MO\":\"Missouri\",\"MT\":\"Montana\",\"NE\":\"Nebraska\",\"NV\":\"Nevada\",\"NH\":\"New Hampshire\",\"NJ\":\"New Jersey\",\n",
    "          \"NM\":\"New Mexico\",\"NY\":\"New York\",\"NC\":\"North Carolina\",\"ND\":\"North Dakota\",\"OH\":\"Ohio\",\"OK\":\"Oklahoma\",\n",
    "          \"OR\":\"Oregon\",\"PA\":\"Pennsylvania\",\"RI\":\"Rhode Island\",\"SC\":\"South Carolina\",\"SD\":\"South Dakota\",\n",
    "          \"TN\":\"Tennessee\",\"TX\":\"Texas\",\"UT\":\"Utah\",\"VT\":\"Vermont\",\"VA\":\"Virginia\",\"WA\":\"Washington\",\n",
    "          \"WV\":\"West Virginia\",\"WI\":\"Wisconsin\",\"WY\":\"Wyoming\"}"
   ]
  },
  {
   "cell_type": "code",
   "execution_count": 11,
   "metadata": {},
   "outputs": [],
   "source": [
    "query_4= \\\n",
    "    \"\"\" \n",
    "        SELECT DISTINCT state FROM business\n",
    "    \"\"\"\n",
    "    \n",
    "states_included = spark.sql(query_4).toPandas()"
   ]
  },
  {
   "cell_type": "code",
   "execution_count": 12,
   "metadata": {
    "scrolled": true
   },
   "outputs": [
    {
     "data": {
      "text/html": [
       "<div>\n",
       "<style scoped>\n",
       "    .dataframe tbody tr th:only-of-type {\n",
       "        vertical-align: middle;\n",
       "    }\n",
       "\n",
       "    .dataframe tbody tr th {\n",
       "        vertical-align: top;\n",
       "    }\n",
       "\n",
       "    .dataframe thead th {\n",
       "        text-align: right;\n",
       "    }\n",
       "</style>\n",
       "<table border=\"1\" class=\"dataframe\">\n",
       "  <thead>\n",
       "    <tr style=\"text-align: right;\">\n",
       "      <th></th>\n",
       "      <th>state</th>\n",
       "    </tr>\n",
       "  </thead>\n",
       "  <tbody>\n",
       "    <tr>\n",
       "      <th>17</th>\n",
       "      <td>Alabama</td>\n",
       "    </tr>\n",
       "    <tr>\n",
       "      <th>33</th>\n",
       "      <td>Alaska</td>\n",
       "    </tr>\n",
       "    <tr>\n",
       "      <th>0</th>\n",
       "      <td>Arizona</td>\n",
       "    </tr>\n",
       "    <tr>\n",
       "      <th>34</th>\n",
       "      <td>Arkansas</td>\n",
       "    </tr>\n",
       "    <tr>\n",
       "      <th>9</th>\n",
       "      <td>California</td>\n",
       "    </tr>\n",
       "    <tr>\n",
       "      <th>11</th>\n",
       "      <td>Connecticut</td>\n",
       "    </tr>\n",
       "    <tr>\n",
       "      <th>32</th>\n",
       "      <td>Florida</td>\n",
       "    </tr>\n",
       "    <tr>\n",
       "      <th>31</th>\n",
       "      <td>Georgia</td>\n",
       "    </tr>\n",
       "    <tr>\n",
       "      <th>14</th>\n",
       "      <td>Illinois</td>\n",
       "    </tr>\n",
       "    <tr>\n",
       "      <th>10</th>\n",
       "      <td>Nebraska</td>\n",
       "    </tr>\n",
       "    <tr>\n",
       "      <th>7</th>\n",
       "      <td>Nevada</td>\n",
       "    </tr>\n",
       "    <tr>\n",
       "      <th>3</th>\n",
       "      <td>New Jersey</td>\n",
       "    </tr>\n",
       "    <tr>\n",
       "      <th>21</th>\n",
       "      <td>New Mexico</td>\n",
       "    </tr>\n",
       "    <tr>\n",
       "      <th>25</th>\n",
       "      <td>New York</td>\n",
       "    </tr>\n",
       "    <tr>\n",
       "      <th>12</th>\n",
       "      <td>North Carolina</td>\n",
       "    </tr>\n",
       "    <tr>\n",
       "      <th>19</th>\n",
       "      <td>Ohio</td>\n",
       "    </tr>\n",
       "    <tr>\n",
       "      <th>23</th>\n",
       "      <td>Pennsylvania</td>\n",
       "    </tr>\n",
       "    <tr>\n",
       "      <th>1</th>\n",
       "      <td>South Carolina</td>\n",
       "    </tr>\n",
       "    <tr>\n",
       "      <th>20</th>\n",
       "      <td>Tennessee</td>\n",
       "    </tr>\n",
       "    <tr>\n",
       "      <th>29</th>\n",
       "      <td>Texas</td>\n",
       "    </tr>\n",
       "    <tr>\n",
       "      <th>35</th>\n",
       "      <td>Utah</td>\n",
       "    </tr>\n",
       "    <tr>\n",
       "      <th>13</th>\n",
       "      <td>Vermont</td>\n",
       "    </tr>\n",
       "    <tr>\n",
       "      <th>4</th>\n",
       "      <td>Virginia</td>\n",
       "    </tr>\n",
       "    <tr>\n",
       "      <th>16</th>\n",
       "      <td>Washington</td>\n",
       "    </tr>\n",
       "    <tr>\n",
       "      <th>8</th>\n",
       "      <td>Wisconsin</td>\n",
       "    </tr>\n",
       "  </tbody>\n",
       "</table>\n",
       "</div>"
      ],
      "text/plain": [
       "             state\n",
       "17         Alabama\n",
       "33          Alaska\n",
       "0          Arizona\n",
       "34        Arkansas\n",
       "9       California\n",
       "11     Connecticut\n",
       "32         Florida\n",
       "31         Georgia\n",
       "14        Illinois\n",
       "10        Nebraska\n",
       "7           Nevada\n",
       "3       New Jersey\n",
       "21      New Mexico\n",
       "25        New York\n",
       "12  North Carolina\n",
       "19            Ohio\n",
       "23    Pennsylvania\n",
       "1   South Carolina\n",
       "20       Tennessee\n",
       "29           Texas\n",
       "35            Utah\n",
       "13         Vermont\n",
       "4         Virginia\n",
       "16      Washington\n",
       "8        Wisconsin"
      ]
     },
     "execution_count": 12,
     "metadata": {},
     "output_type": "execute_result"
    }
   ],
   "source": [
    "(states_included \\\n",
    "     #excludes abbreviations that don't correspond to US states\n",
    "     [states_included.state.isin(states.keys()) == True]\n",
    " \n",
    "     #uses the dictionary 'states' to replace the abbreviations with full state names\n",
    "     .replace({\"state\": states})\n",
    " \n",
    "     #an alphabetical sort for fun =)\n",
    "     .sort_values('state')\n",
    ")"
   ]
  },
  {
   "cell_type": "markdown",
   "metadata": {},
   "source": [
    "## <font color=\"magenta\">Q5: What is the text of the funniest review?</font>"
   ]
  },
  {
   "cell_type": "code",
   "execution_count": 13,
   "metadata": {},
   "outputs": [
    {
     "data": {
      "text/plain": [
       "Row(text=\"Flew to Arizona a few months ago to try this. Disappointed that this place closed after Gordon Ramsay's return. Their food was one of the best food I had in my whole entire life!! Their caesar salad was great, sauce is very good. Their pizza was THE BEST I HAD IN MY WHOLE ENTIRE LIFE. From the garlic crust to the extremely cheesy topping, the pizza was absolutely outstanding. Wish I could come back but its now closed.\")"
      ]
     },
     "execution_count": 13,
     "metadata": {},
     "output_type": "execute_result"
    }
   ],
   "source": [
    "query_5 = \\\n",
    "\"\"\" \n",
    "    SELECT text\n",
    "    FROM review\n",
    "    ORDER BY funny DESC\n",
    "\"\"\"\n",
    "    \n",
    "spark.sql(query_5).first()"
   ]
  },
  {
   "cell_type": "markdown",
   "metadata": {},
   "source": [
    "## <font color=\"magenta\">Q6: Which review(s) has/have the most words?  What do you notice about the maximum word count?</font>"
   ]
  },
  {
   "cell_type": "code",
   "execution_count": 14,
   "metadata": {},
   "outputs": [
    {
     "data": {
      "text/plain": [
       "<function __main__.word_count(text)>"
      ]
     },
     "execution_count": 14,
     "metadata": {},
     "output_type": "execute_result"
    }
   ],
   "source": [
    "#function created to count words (I chose to leave out numeric characters)\n",
    "def word_count(text):\n",
    "    \"\"\"return the count of the number of words in the input text\"\"\"\n",
    "    return len(re.findall(r'[A-Za-z\\']+', text.lower()))\n",
    "\n",
    "#creation of user defined function from function above\n",
    "word_count_udf = udf(lambda line: word_count(line), IntegerType())\n",
    "\n",
    "#register use of udf so that it can be used in the sql query\n",
    "spark.udf.register('word_count_udf', word_count, IntegerType())"
   ]
  },
  {
   "cell_type": "code",
   "execution_count": 15,
   "metadata": {},
   "outputs": [
    {
     "name": "stdout",
     "output_type": "stream",
     "text": [
      "+--------------------+-----------------+----------------------+\n",
      "|                text|review_word_count|review_character_count|\n",
      "+--------------------+-----------------+----------------------+\n",
      "|Went in Sunday 12...|             1043|                  5000|\n",
      "|This place is HOR...|             1041|                  4990|\n",
      "|Where do I even s...|             1037|                  5000|\n",
      "|If I could negati...|             1036|                  4982|\n",
      "|I made my appoint...|             1033|                  4958|\n",
      "|PART ONE: As of n...|             1033|                  4963|\n",
      "|They asked me to ...|             1032|                  4997|\n",
      "|We stayed here th...|             1028|                  5000|\n",
      "|NOW THAT'S A KNIF...|             1026|                  4987|\n",
      "|If i could i woul...|             1021|                  4999|\n",
      "+--------------------+-----------------+----------------------+\n",
      "only showing top 10 rows\n",
      "\n"
     ]
    }
   ],
   "source": [
    "query_6 = \\\n",
    "\"\"\" \n",
    "    SELECT \n",
    "        text,\n",
    "        word_count_udf(text) AS review_word_count,\n",
    "        LENGTH(text) AS review_character_count\n",
    "    FROM review\n",
    "    ORDER BY review_word_count DESC\n",
    "\"\"\"\n",
    "    \n",
    "spark.sql(query_6).show(10)"
   ]
  },
  {
   "cell_type": "markdown",
   "metadata": {},
   "source": [
    " > There are a few things I notice: first, the reviews that have the highest word count (and I chose to exclude items in the review that contained numbers) all have similar word counts (just over 1000).  Finding the character count for those reviews (shown in the aliased column <code>review_character_count</code>) you find the character count hovers around 5000 for each (which, according to [links on yelp.com like this one](https://www.yelp.com/topic/nampa-whats-the-character-word-limit-allowed-for-reviews), is the maximum number of characters allowed)."
   ]
  },
  {
   "cell_type": "markdown",
   "metadata": {},
   "source": [
    "##  <font color=\"magenta\">Q7: What are the names of the top 10 users who provided the most tips?</font>"
   ]
  },
  {
   "cell_type": "code",
   "execution_count": 16,
   "metadata": {},
   "outputs": [
    {
     "name": "stdout",
     "output_type": "stream",
     "text": [
      "+--------+---------+\n",
      "|    name|tip_count|\n",
      "+--------+---------+\n",
      "|    Momo|     2439|\n",
      "|Jennifer|     1598|\n",
      "|Samantha|     1509|\n",
      "|  Daniel|     1376|\n",
      "|Christie|     1352|\n",
      "|     May|     1255|\n",
      "|   Kurdy|     1178|\n",
      "| Anthony|     1161|\n",
      "| Shirley|     1154|\n",
      "| Cherrie|     1017|\n",
      "+--------+---------+\n",
      "only showing top 10 rows\n",
      "\n"
     ]
    }
   ],
   "source": [
    "query_7 = \\\n",
    "\"\"\" \n",
    "    SELECT \n",
    "        user.name, \n",
    "        count(tip.user_id) AS tip_count\n",
    "    FROM tip\n",
    "    INNER JOIN user\n",
    "        ON tip.user_id = user.user_id\n",
    "    GROUP BY \n",
    "        tip.user_id, \n",
    "        user.name\n",
    "    ORDER BY tip_count DESC\n",
    "\"\"\"\n",
    "    \n",
    "spark.sql(query_7).show(10)"
   ]
  },
  {
   "cell_type": "markdown",
   "metadata": {},
   "source": [
    "##  <font color=\"magenta\">Q8: List the names, number of reviews of businesses in Arizona and total number of reviews of the top 5 users (as determined by who has created the most number of reviews of businesses in Arizona).  Include a column that shows the percentage of reviews that are of businesses from Arizona.  The first row of the results should be:</font>\n",
    "```\n",
    "+--------+--------+-----------+---------+\n",
    "|    name|az_count|total_count|  percent|\n",
    "+--------+--------+-----------+---------+\n",
    "|    Brad|    1637|       1642|99.695496|\n",
    "+--------+--------+-----------+---------+\n",
    "```"
   ]
  },
  {
   "cell_type": "code",
   "execution_count": 17,
   "metadata": {},
   "outputs": [
    {
     "name": "stdout",
     "output_type": "stream",
     "text": [
      "+--------+--------+-----------+---------+\n",
      "|    name|az_count|total_count|  percent|\n",
      "+--------+--------+-----------+---------+\n",
      "|    Brad|    1637|       1642|99.695493|\n",
      "|   Karen|    1559|       2340|66.623932|\n",
      "|Jennifer|    1250|       1929|64.800415|\n",
      "|    Gabi|    1151|       1932|59.575569|\n",
      "|Jennifer|    1059|       4190|25.274463|\n",
      "+--------+--------+-----------+---------+\n",
      "only showing top 5 rows\n",
      "\n"
     ]
    }
   ],
   "source": [
    "query_8 = \\\n",
    "\"\"\" \n",
    "    SELECT\n",
    "       name,\n",
    "       az_count,\n",
    "       total_count,\n",
    "       ROUND(az_count*100/total_count,6) \n",
    "           AS percent\n",
    "    FROM\n",
    "        (\n",
    "         SELECT \n",
    "            user.name,\n",
    "            user.user_id,\n",
    "            sum(cast(business.state = 'AZ' as INT)) \n",
    "                AS az_count,\n",
    "            user.review_count \n",
    "                AS total_count\n",
    "        FROM user\n",
    "        INNER JOIN review\n",
    "            ON review.user_id = user.user_id\n",
    "        INNER JOIN business\n",
    "            ON business.business_id = review.business_id\n",
    "        GROUP BY \n",
    "            user.name,\n",
    "            user.user_id,\n",
    "            total_count\n",
    "        ORDER BY az_count DESC\n",
    "        \n",
    "        ) resultset\n",
    "\"\"\"\n",
    "    \n",
    "spark.sql(query_8).show(5)"
   ]
  }
 ],
 "metadata": {
  "kernelspec": {
   "display_name": "Python 3",
   "language": "python",
   "name": "python3"
  },
  "language_info": {
   "codemirror_mode": {
    "name": "ipython",
    "version": 3
   },
   "file_extension": ".py",
   "mimetype": "text/x-python",
   "name": "python",
   "nbconvert_exporter": "python",
   "pygments_lexer": "ipython3",
   "version": "3.7.3"
  }
 },
 "nbformat": 4,
 "nbformat_minor": 2
}
