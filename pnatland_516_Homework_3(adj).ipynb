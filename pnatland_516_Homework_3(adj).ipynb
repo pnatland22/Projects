{
 "cells": [
  {
   "cell_type": "markdown",
   "metadata": {
    "colab_type": "text",
    "id": "8xKUiifPp32x"
   },
   "source": [
    "# SIADS 516: Homework 3\n",
    "Version 1.0.20200303.2\n",
    "### Dr. Chris Teplovs, School of Information, University of Michigan\n",
    "<small><a rel=\"license\" href=\"http://creativecommons.org/licenses/by-nc-sa/4.0/\"><img alt=\"Creative Commons License\" style=\"border-width:0\" src=\"https://i.creativecommons.org/l/by-nc-sa/4.0/88x31.png\" /></a>This work is licensed under a <a rel=\"license\" href=\"http://creativecommons.org/licenses/by-nc-sa/4.0/\">Creative Commons Attribution-NonCommercial-ShareAlike 4.0 International License</a>."
   ]
  },
  {
   "cell_type": "markdown",
   "metadata": {},
   "source": [
    "This homework assignment builds on the Spark DataFrame material we covered in class.\n",
    "You will be using a compressed version of the Yelp Academic Dataset.  The data set is provided for you in the data/yelp-academic sub-folder of this notebook's directory and you should not need to download it again if you're working on the Coursera hosted notebook environment.\n",
    "\n",
    "You might want to refer to the lecture companion notebooks (in workspace-files/resources/lecture_notebooks or equivalently via Coursera as \"Ungraded Lab: Spark Core Demo\" and \"Ungraded Lab: Spark SQL Demo) for hints about libraries to import, how to set up a SparkSession, and how to read data files.\n",
    "\n",
    "You will notice that there are a **lot** of reviews.  You might want to work off a small sample (i.e. use the sample() function in Spark) to work on a reduced size dataset while you're developing your solution.\n",
    "\n",
    "**You should take care to document your work, preferably using markdown blocks. In-code commenting is also \n",
    "a good idea.**"
   ]
  },
  {
   "cell_type": "code",
   "execution_count": 1,
   "metadata": {},
   "outputs": [
    {
     "data": {
      "text/plain": [
       "'\\nNAME: Paul Natland\\n'"
      ]
     },
     "execution_count": 1,
     "metadata": {},
     "output_type": "execute_result"
    }
   ],
   "source": [
    "\"\"\"\n",
    "NAME: Paul Natland\n",
    "\"\"\""
   ]
  },
  {
   "cell_type": "markdown",
   "metadata": {},
   "source": [
    "------------------------------------------------------------------------------------------------------------------------------\n",
    "#### <font color=\"blue\">__ACKNOWLEDGEMENTS:__ I benefitted from class notebooks and lectures, searches on Stack Overflow, and conversations in SLACK</font>\n",
    "------------------------------------------------------------------------------------------------------------------------------"
   ]
  },
  {
   "cell_type": "code",
   "execution_count": 36,
   "metadata": {},
   "outputs": [
    {
     "data": {
      "text/html": [
       "<style>.container { width:99% !important; }</style>"
      ],
      "text/plain": [
       "<IPython.core.display.HTML object>"
      ]
     },
     "metadata": {},
     "output_type": "display_data"
    }
   ],
   "source": [
    "#go wide screen!\n",
    "from IPython.core.display import display, HTML; display(HTML(\"<style>.container { width:99% !important; }</style>\"))"
   ]
  },
  {
   "cell_type": "markdown",
   "metadata": {},
   "source": [
    "## Imports"
   ]
  },
  {
   "cell_type": "code",
   "execution_count": 2,
   "metadata": {},
   "outputs": [],
   "source": [
    "from pyspark.sql import SparkSession\n",
    "    #to establish the sparksession\n",
    "\n",
    "import pyspark.sql.functions as F\n",
    "    #to call certain built-in functions\n",
    "\n",
    "from pyspark.sql.functions import col, udf, explode, rank, hour, minute, second\n",
    "    #to call various fonctions on columns\n",
    "    \n",
    "from pyspark.sql.types import IntegerType, StringType, ArrayType\n",
    "    #to clearly state value types in udf's"
   ]
  },
  {
   "cell_type": "markdown",
   "metadata": {},
   "source": [
    "## Exploring data"
   ]
  },
  {
   "cell_type": "code",
   "execution_count": 3,
   "metadata": {},
   "outputs": [],
   "source": [
    "spark = SparkSession \\\n",
    "    .builder \\\n",
    "    .master(\"local[*]\") \\\n",
    "    .appName('SIADS 516 -- HW3') \\\n",
    "    .getOrCreate() \n",
    "\n",
    "sc = spark.sparkContext"
   ]
  },
  {
   "cell_type": "code",
   "execution_count": 6,
   "metadata": {},
   "outputs": [
    {
     "name": "stdout",
     "output_type": "stream",
     "text": [
      "root\n",
      " |-- average_stars: double (nullable = true)\n",
      " |-- compliment_cool: long (nullable = true)\n",
      " |-- compliment_cute: long (nullable = true)\n",
      " |-- compliment_funny: long (nullable = true)\n",
      " |-- compliment_hot: long (nullable = true)\n",
      " |-- compliment_list: long (nullable = true)\n",
      " |-- compliment_more: long (nullable = true)\n",
      " |-- compliment_note: long (nullable = true)\n",
      " |-- compliment_photos: long (nullable = true)\n",
      " |-- compliment_plain: long (nullable = true)\n",
      " |-- compliment_profile: long (nullable = true)\n",
      " |-- compliment_writer: long (nullable = true)\n",
      " |-- cool: long (nullable = true)\n",
      " |-- elite: string (nullable = true)\n",
      " |-- fans: long (nullable = true)\n",
      " |-- friends: string (nullable = true)\n",
      " |-- funny: long (nullable = true)\n",
      " |-- name: string (nullable = true)\n",
      " |-- review_count: long (nullable = true)\n",
      " |-- useful: long (nullable = true)\n",
      " |-- user_id: string (nullable = true)\n",
      " |-- yelping_since: string (nullable = true)\n",
      "\n"
     ]
    }
   ],
   "source": [
    "user = spark.read.json(\"data/yelp_academic/yelp_academic_dataset_user.json.gz\")\n",
    "\n",
    "user.printSchema()"
   ]
  },
  {
   "cell_type": "code",
   "execution_count": 7,
   "metadata": {},
   "outputs": [
    {
     "data": {
      "text/plain": [
       "[Row(funny=17),\n",
       " Row(funny=22),\n",
       " Row(funny=8),\n",
       " Row(funny=4),\n",
       " Row(funny=279),\n",
       " Row(funny=2424),\n",
       " Row(funny=19356),\n",
       " Row(funny=0),\n",
       " Row(funny=693),\n",
       " Row(funny=70)]"
      ]
     },
     "execution_count": 7,
     "metadata": {},
     "output_type": "execute_result"
    }
   ],
   "source": [
    "user.select('funny').take(10)"
   ]
  },
  {
   "cell_type": "code",
   "execution_count": 8,
   "metadata": {},
   "outputs": [
    {
     "name": "stdout",
     "output_type": "stream",
     "text": [
      "root\n",
      " |-- address: string (nullable = true)\n",
      " |-- attributes: struct (nullable = true)\n",
      " |    |-- AcceptsInsurance: string (nullable = true)\n",
      " |    |-- AgesAllowed: string (nullable = true)\n",
      " |    |-- Alcohol: string (nullable = true)\n",
      " |    |-- Ambience: string (nullable = true)\n",
      " |    |-- BYOB: string (nullable = true)\n",
      " |    |-- BYOBCorkage: string (nullable = true)\n",
      " |    |-- BestNights: string (nullable = true)\n",
      " |    |-- BikeParking: string (nullable = true)\n",
      " |    |-- BusinessAcceptsBitcoin: string (nullable = true)\n",
      " |    |-- BusinessAcceptsCreditCards: string (nullable = true)\n",
      " |    |-- BusinessParking: string (nullable = true)\n",
      " |    |-- ByAppointmentOnly: string (nullable = true)\n",
      " |    |-- Caters: string (nullable = true)\n",
      " |    |-- CoatCheck: string (nullable = true)\n",
      " |    |-- Corkage: string (nullable = true)\n",
      " |    |-- DietaryRestrictions: string (nullable = true)\n",
      " |    |-- DogsAllowed: string (nullable = true)\n",
      " |    |-- DriveThru: string (nullable = true)\n",
      " |    |-- GoodForDancing: string (nullable = true)\n",
      " |    |-- GoodForKids: string (nullable = true)\n",
      " |    |-- GoodForMeal: string (nullable = true)\n",
      " |    |-- HairSpecializesIn: string (nullable = true)\n",
      " |    |-- HappyHour: string (nullable = true)\n",
      " |    |-- HasTV: string (nullable = true)\n",
      " |    |-- Music: string (nullable = true)\n",
      " |    |-- NoiseLevel: string (nullable = true)\n",
      " |    |-- Open24Hours: string (nullable = true)\n",
      " |    |-- OutdoorSeating: string (nullable = true)\n",
      " |    |-- RestaurantsAttire: string (nullable = true)\n",
      " |    |-- RestaurantsCounterService: string (nullable = true)\n",
      " |    |-- RestaurantsDelivery: string (nullable = true)\n",
      " |    |-- RestaurantsGoodForGroups: string (nullable = true)\n",
      " |    |-- RestaurantsPriceRange2: string (nullable = true)\n",
      " |    |-- RestaurantsReservations: string (nullable = true)\n",
      " |    |-- RestaurantsTableService: string (nullable = true)\n",
      " |    |-- RestaurantsTakeOut: string (nullable = true)\n",
      " |    |-- Smoking: string (nullable = true)\n",
      " |    |-- WheelchairAccessible: string (nullable = true)\n",
      " |    |-- WiFi: string (nullable = true)\n",
      " |-- business_id: string (nullable = true)\n",
      " |-- categories: string (nullable = true)\n",
      " |-- city: string (nullable = true)\n",
      " |-- hours: struct (nullable = true)\n",
      " |    |-- Friday: string (nullable = true)\n",
      " |    |-- Monday: string (nullable = true)\n",
      " |    |-- Saturday: string (nullable = true)\n",
      " |    |-- Sunday: string (nullable = true)\n",
      " |    |-- Thursday: string (nullable = true)\n",
      " |    |-- Tuesday: string (nullable = true)\n",
      " |    |-- Wednesday: string (nullable = true)\n",
      " |-- is_open: long (nullable = true)\n",
      " |-- latitude: double (nullable = true)\n",
      " |-- longitude: double (nullable = true)\n",
      " |-- name: string (nullable = true)\n",
      " |-- postal_code: string (nullable = true)\n",
      " |-- review_count: long (nullable = true)\n",
      " |-- stars: double (nullable = true)\n",
      " |-- state: string (nullable = true)\n",
      "\n"
     ]
    }
   ],
   "source": [
    "business = spark.read.json(\"data/yelp_academic/yelp_academic_dataset_business.json.gz\")\n",
    "\n",
    "business.printSchema()"
   ]
  },
  {
   "cell_type": "code",
   "execution_count": 9,
   "metadata": {},
   "outputs": [
    {
     "name": "stdout",
     "output_type": "stream",
     "text": [
      "root\n",
      " |-- business_id: string (nullable = true)\n",
      " |-- cool: long (nullable = true)\n",
      " |-- date: string (nullable = true)\n",
      " |-- funny: long (nullable = true)\n",
      " |-- review_id: string (nullable = true)\n",
      " |-- stars: double (nullable = true)\n",
      " |-- text: string (nullable = true)\n",
      " |-- useful: long (nullable = true)\n",
      " |-- user_id: string (nullable = true)\n",
      "\n"
     ]
    }
   ],
   "source": [
    "review = spark.read.json(\"data/yelp_academic/yelp_academic_dataset_review.json.gz\")\n",
    "\n",
    "review.printSchema()"
   ]
  },
  {
   "cell_type": "code",
   "execution_count": 10,
   "metadata": {},
   "outputs": [
    {
     "data": {
      "text/plain": [
       "[Row(funny=1),\n",
       " Row(funny=0),\n",
       " Row(funny=0),\n",
       " Row(funny=0),\n",
       " Row(funny=0),\n",
       " Row(funny=0),\n",
       " Row(funny=4),\n",
       " Row(funny=1),\n",
       " Row(funny=0),\n",
       " Row(funny=0)]"
      ]
     },
     "execution_count": 10,
     "metadata": {},
     "output_type": "execute_result"
    }
   ],
   "source": [
    "review.select('funny').take(10)"
   ]
  },
  {
   "cell_type": "code",
   "execution_count": 11,
   "metadata": {},
   "outputs": [
    {
     "data": {
      "text/plain": [
       "[Row(business_id='RBGGLBIOsn8rxv5Nott4zw', cool=0, date='2014-11-12 15:29:08', funny=1, review_id='jjXMzyIn4kpBUOKsTrAp5Q', stars=5.0, text='Early this past January, I needed to find a furnished rental in the uptown Charlotte market. I really had no idea of how or where to look. I was glad when I found the Sold on Charlotte site.\\nAs I recall I traded a few emails and phone calls with Chip and he was helpful in answering all my questions. We met at 626 North Graham and he showed me the unit there that was available.\\nBetween Chip and Sylvia, I was \"sold\" on that apartment and we got the \"paperwork\" going. I enjoyed my stay there which lasted 6 months (3 months more that I initially signed up for).\\nWhen it came time to give my notice, Sylvia gave me all the details I needed, and these were pretty much the same that were in our initial Lease Agreement. They were kind enough to give me ample notice to show the apartment during my last 30 days, without too much inconvenience. Sylvia helped me tie up a few loose ends and even arranged to pick up a lamp for me that needed to be repaired when I moved out.\\n \\nI would certainly reach out to the team at Sold on Charlotte again.\\n \\nKind regards,\\n \\nJohn D', useful=0, user_id='-ifGqKj4_GZIPGcR5ox-xQ'),\n",
       " Row(business_id='TrVKJkWWQeMTK_ly0PMGtg', cool=0, date='2017-12-29 15:15:26', funny=0, review_id='hnfenSqVqFHKwqi4xc3-Bg', stars=5.0, text=\"The food was great Our server Karu was the bomb he was cool, very nice and good looking guy. It's the perfect spot for the bring friends and group. Great atmosphere and great menu choices.  SPICY... but its good haha.  Defenitely coming back!!!\", useful=0, user_id='7aBkE9MjhQEc_RQieOVeBg'),\n",
       " Row(business_id='qpBfYbkPmXIFWVQ7pLkQ_w', cool=0, date='2014-04-19 13:17:14', funny=0, review_id='EV1I5ZH8Q6wt0LNtUiSHoA', stars=5.0, text=\"Danielle was the perfect server - always smiling and came around enough but not too much, made good suggestions and generally let us be silly, nearby table neighbors were great, food was fresh and tasty. I had the crab topped chicken which was juicy and flavorful. The man had ravioli something that was also tasty - fresh pasta and good meat sauce. \\n\\nThe salad and soup and breadsticks are always wonderful. We also got the bruschetta which was really perfect - not specialty, not gourmet, just perfectly normal, fresh tasting tomato, basil and olive oil yumminess.\\n\\nWe also had a trio of their Dolcini desserts which made it perfect so we could have tiramisu and the limoncello and strawberry stuff!\\n\\nOverall, even though it was really busy and we waited for about 20 minutes for a table (although 'waiting' in the bar having a drink hardly counts as waiting), with the excellent service and great food this place definitely gets 5 stars from me and for a chain restaurant that is definitely something!\", useful=1, user_id='MtuDtNXzulonkKPRZvCglw'),\n",
       " Row(business_id='dnBQZpWTyJzTe0QJf7YK5w', cool=1, date='2015-07-03 21:23:50', funny=1, review_id='uoogIm15DCkUUjIdQjwmPA', stars=3.0, text=\"Decent burgers here.  Didn't live up to the hype, though.\\n\\nOne thing that concerned me was the gal cooking the burgers had long hair that was not tied back.  Just an FYI in case you're squeamish about plucking hair out of your food.\", useful=2, user_id='NS9uz1e7_77ESixQJ_B4vg'),\n",
       " Row(business_id='qmymSqVwHYRqdwfcBatzpQ', cool=0, date='2013-05-07 02:22:07', funny=0, review_id='zMBaVXF-cTZ_DEwO_09YaA', stars=4.0, text=\"I have been to Vintner Grill twice in two weeks recently.  The first was on Administrative Professionals' Day for lunch.  It was packed and the food was delicious.  As is the usual with Vintner, the service was not great.  Our waiter was friendly (when we saw him), but he just couldn't keep up in his section.\\n\\nHubby and I also went back on a Friday at 2:15 for a liquor lunch, and I must say it was one of the best dining experiences we have had in Las Vegas.  The food was excellent as it has always been.  However, for the first time, the service (by Mark), was impeccable.  Was it because there were only a few tables?  Possibly, but something tells me that I have found my go-to server from now on.  He made great recommendations, and the timing of everything was amazing.  Sitting outside and enjoying champagne was heavenly.\\n\\nPlease go to Vintner Grill.  It is worth the drive from the Strip.  Just be patient in case the service is a little slow.  Besides, you never know what celebrity you may see!\", useful=0, user_id='cs0Y0nio4n0uGEbAisBF6g')]"
      ]
     },
     "execution_count": 11,
     "metadata": {},
     "output_type": "execute_result"
    }
   ],
   "source": [
    "review.sample(fraction=0.01).take(5)"
   ]
  },
  {
   "cell_type": "code",
   "execution_count": 12,
   "metadata": {},
   "outputs": [
    {
     "name": "stdout",
     "output_type": "stream",
     "text": [
      "+-------+--------------------+------------------+-------------------+-------------------+--------------------+------------------+------------------------------------+------------------+--------------------+\n",
      "|summary|         business_id|              cool|               date|              funny|           review_id|             stars|                                text|            useful|             user_id|\n",
      "+-------+--------------------+------------------+-------------------+-------------------+--------------------+------------------+------------------------------------+------------------+--------------------+\n",
      "|  count|             6685900|           6685900|            6685900|            6685900|             6685900|           6685900|                             6685900|           6685900|             6685900|\n",
      "|   mean|                null|0.5787708461089756|               null|0.48276671801851656|                null|3.7161993149762935|                                null|1.3541339236303265|                null|\n",
      "| stddev|                null| 2.359023830214676|               null|  2.378645550874578|                null|1.4636427449897866|                                null|3.7001920972289923|                null|\n",
      "|    min|--1UhMGODdWsrMast...|                -1|2004-10-12 10:13:32|                  0|----X0BIDP9tA49U3...|               1.0|                                   !|                -1|---1lKK3aKOuomHnw...|\n",
      "|    max|zzzaIBwimxVej4tY6...|               506|2018-11-14 18:13:26|               1290|zzzuOUz7Owtf4EEHv...|               5.0|５　感動しました！大好きです。\n",
      "４...|              1241|zzzmshdEWLFCApxET...|\n",
      "+-------+--------------------+------------------+-------------------+-------------------+--------------------+------------------+------------------------------------+------------------+--------------------+\n",
      "\n"
     ]
    }
   ],
   "source": [
    "review.describe().show()"
   ]
  },
  {
   "cell_type": "code",
   "execution_count": 13,
   "metadata": {},
   "outputs": [
    {
     "name": "stdout",
     "output_type": "stream",
     "text": [
      "root\n",
      " |-- business_id: string (nullable = true)\n",
      " |-- date: string (nullable = true)\n",
      "\n"
     ]
    }
   ],
   "source": [
    "checkin = spark.read.json(\"data/yelp_academic/yelp_academic_dataset_checkin.json.gz\")\n",
    "\n",
    "checkin.printSchema()"
   ]
  },
  {
   "cell_type": "code",
   "execution_count": 14,
   "metadata": {},
   "outputs": [
    {
     "data": {
      "text/plain": [
       "[Row(business_id='--1UhMGODdWsrMastO9DZw', date='2016-04-26 19:49:16, 2016-08-30 18:36:57, 2016-10-15 02:45:18, 2016-11-18 01:54:50, 2017-04-20 18:39:06, 2017-05-03 17:58:02')]"
      ]
     },
     "execution_count": 14,
     "metadata": {},
     "output_type": "execute_result"
    }
   ],
   "source": [
    "checkin.take(1)"
   ]
  },
  {
   "cell_type": "code",
   "execution_count": 15,
   "metadata": {},
   "outputs": [
    {
     "data": {
      "text/plain": [
       "[('business_id', 'string'), ('date', 'string')]"
      ]
     },
     "execution_count": 15,
     "metadata": {},
     "output_type": "execute_result"
    }
   ],
   "source": [
    "checkin.dtypes"
   ]
  },
  {
   "cell_type": "markdown",
   "metadata": {},
   "source": [
    "### <font color=\"magenta\">Q1: How many users have received more than 5000 cool compliments?</font>"
   ]
  },
  {
   "cell_type": "markdown",
   "metadata": {},
   "source": [
    "#### Answer:"
   ]
  },
  {
   "cell_type": "code",
   "execution_count": 16,
   "metadata": {},
   "outputs": [
    {
     "data": {
      "text/plain": [
       "79"
      ]
     },
     "execution_count": 16,
     "metadata": {},
     "output_type": "execute_result"
    }
   ],
   "source": [
    "user.filter(user['compliment_cool']>5000).count()"
   ]
  },
  {
   "cell_type": "markdown",
   "metadata": {},
   "source": [
    " > On the spark object I called the filter function and fed it the condition \"> 5000\".  This returns an RDD where just this condition is met, then 'count()' is called to, effectively, count the rows."
   ]
  },
  {
   "cell_type": "markdown",
   "metadata": {},
   "source": [
    "### <font color=\"magenta\">Q2 (EXCLUDED): What are the names of the top 10 most complimented businesses?</font>"
   ]
  },
  {
   "cell_type": "markdown",
   "metadata": {},
   "source": [
    " > This question was excluded from the HW set (stated on SLACK)"
   ]
  },
  {
   "cell_type": "markdown",
   "metadata": {},
   "source": [
    "### <font color=\"magenta\">Q3: What are the top 10 most useful positive reviews?</font>"
   ]
  },
  {
   "cell_type": "code",
   "execution_count": 17,
   "metadata": {},
   "outputs": [
    {
     "data": {
      "text/plain": [
       "2933082"
      ]
     },
     "execution_count": 17,
     "metadata": {},
     "output_type": "execute_result"
    }
   ],
   "source": [
    "#the number of reviews that give over 4 stars\n",
    "review.filter(review['stars']> 4).count()"
   ]
  },
  {
   "cell_type": "markdown",
   "metadata": {},
   "source": [
    "#### Answer:"
   ]
  },
  {
   "cell_type": "code",
   "execution_count": 20,
   "metadata": {},
   "outputs": [
    {
     "data": {
      "text/plain": [
       "[Row(business_id='t-o_Sraneime4DDhWrQRBA', cool=347, date='2018-04-26 22:58:34', funny=156, review_id='1lGXlyq4MALOMx17vpBcoQ', stars=5.0, text='The Wynn Hotel. One word. Opulent. \\n\\nWynn, is a luxury resort and casino located on the Las Vegas Strip. Named after the casino developer Steve Wynn, this $2.7 billion resort together with Encore is the world\\'s seventh-largest hotels and one of the finest in the world. \\n\\nHolding the title for the highest rated resort company in the world with 16 Forbes Travel Guide Five-Star Awards, AAA five diamond, Mobil five-star, Michelin five star, and Zagat Survey Top U.S. Hotel ratings, as well as one Michelin star for its restaurant Wing Lei, the first Chinese restaurant to receive a Michelin Star in the country. \\n\\nThe Wynn is a genre almost entirely their own. Talk about a blend of opulent creativity and seductive comfort. Wynn Hotel designer Roger Thomas calls it \"Evocatect.\" The \"architecture that evokes wonderful moments in people\\'s lives.\" \\n\\nShare a moment alone or with someone special and walk through the sunlit Atrium, gaze at the immense beauty of the Parasols, dine at one of their Four-Star Award-winning restaurants, which holds more awards than any other independent resort in North America, shop at Chanel, Dior, or Louie Vuitton just to name a few, enjoy their epic casino gaming floor or just take a load off and stay at one of their exquisite rooms. \\n\\nWhatever you decide to do at the Wynn, their magnificent ambience and hospitality will create such an extraordinary emotional experience you will never forget.', useful=358, user_id='aIbYxOV_3dBIPUcnl806xg'),\n",
       " Row(business_id='6Suj9mb9565xjAKHMXJLmw', cool=164, date='2014-07-19 18:32:10', funny=0, review_id='gAUkgn4dTO-R2n5LBcht-w', stars=5.0, text='Wayne does a fantastic Job, always on time, my carpets are beautiful when he leaves as is my grout that he scrubs back to the way it looked the day it was being put in.  He is always ON TIME, and his rates are fantastic,  He is the best I have ever used.  Give this company a try.  He is also owner/operator so it is always important to support local businesses.', useful=278, user_id='d3U8ftbUpjuPQbacWoDVTA'),\n",
       " Row(business_id='IapQwLdAwztQYN99pQui3w', cool=232, date='2017-06-16 04:46:15', funny=156, review_id='0nr6SQFKpR6JCYl1zrzROQ', stars=5.0, text=\"This is one of the most interesting classic lofts complex this dude has seen.  In 1901, they built this place by Allegheny river to be the biggest cork factory in the world. This dude came to Pittsburgh in July 2016. Management here are courteous and pleasant. This place is only for rent; you can't own. They have high ceilings, red brick walls, gorgeous courtyard, lovely outdoor seats, fire pit and most importantly amazing neighbors.\\n\\nDogs are more than humans here. They have cool dogs shower at the basement. Maintenance staff are excellent here. Parking is ~$90/month. 1Br lofts ~$1700/month. Washer dryer are in unit. Concierge, business center and fitness are 24 hour. Dry cleaning is available. This dude will miss having dinners and tea with lovely neighbors by the courtyard watching the sunset. I could write pages of details. Ask if you have questions. \\n\\nNegatives: There is no perfect place. There are some ''fixable'' issues. I was hoping for a gas stove, digital thermostat, soft-closing cabinets and toilet seat. Also the elevator and corridors occasionally smell bad. \\n\\nGiving the enormous room, it would work perfectly for couples or hoarders here. I'm a minimalist and had a hard time filling my loft with stuff. Overall, it's a unique facility that is worth checking out. Five solid stars. My neighbors, I love you.\", useful=241, user_id='UUqGHQFu2tQDGv5r3yJWPA'),\n",
       " Row(business_id='Ka00H3EHLLiPNpMj1V4Hcw', cool=202, date='2017-11-28 08:36:36', funny=187, review_id='tTs6vjzf5Mvhs4aOAJjtXQ', stars=5.0, text=\"Wenn man auf dem Strip zu Fuß unterwegs ist, sollte man es nicht versäumen, auch mal in die LINQ Promenade abzubiegen. Sie befindet sich gegenüber vom Caesars Palace zwischen dem Hotel The LINQ Resort and Casino und dem Flamingo Hotel.\\n\\nEröffnet wurde diese Flaniermeile am 1. April 2014 und ist meines Erachtens eine wirkliche Bereicherung für diese Gegend. Erbaut wurde das Areal von der Caesars Entertainment und mit der Sängerin Britney Spears feierlich eröffnet.\\n\\nDie schön gestaltete Promenade bietet den Besuchern 400 Geschäfte und Restaurants in einer 200.000 Quadratmeter großen Fläche an. Am Ende der Straße wartet auf die Gäste die Hauptattraktion, der High Roller, ein 167 Meter hohes Riesenrad und damit das größte der Welt.\\n\\nUnter anderem befinden sich auf der Promenade O'Shea's Casino, Chayo, The Haute Doggery Hot Dog shop, Off the Strip Bistro, In-N-Out Burger, Sprinkles Cupcakes, Starbucks, Ghirardelli, Yard House, Tilted Kilt and Flour & Barley. Shops include Photo & Go, Pier 30, Bella Scarpa, 12A.M. Run, Chilli Beans, Goorin Bros. and Ruby Blue. \\n\\nBei In-N-Out Burger wird man zu den Hauptzeiten sicherlich lange warten müssen, denn die Absperrbänder lassen dies erahnen. Sicherlich momentan die beliebteste Burgerkette an der Westküste. Bei unserem Besuch, kurz vor Halloween, waren überall gruselige Gestalten aufgestellt. Eine wirklich tolle Idee, die bei den Besuchern der Promenade sehr gut ankam.\\n\\nEine weitere Attraktion der LINQ Promenade ist die Brooklyn Bowl, ein Musikveranstaltungsort mit einer Kapazität von mehr als 2.000 Konzertbesuchern. Brooklyn Bowl verfügt darüber hinaus über ein Restaurant, 32 Bowlingbahnen, nächtliche Live-Auftritte und einen Nachtclub.\\n\\nEinen Besuch der LINQ Promenade kann ich absolut empfehlen.\", useful=215, user_id='--2vR0DIsmQ6WfcSzKWigw'),\n",
       " Row(business_id='igHYkXZMLAc9UdV5VnR_AA', cool=208, date='2018-01-11 10:10:47', funny=182, review_id='PAN7D4F6gzHELLMKsfwISQ', stars=5.0, text=\"I stopped by Echo and Rig during lunch time on the weekend.  My server informed me that only brunch was being served, and that their regular menu is available at dinner times and on weekday lunches.  I really wanted to have a steak as I heard so much about their meats.  She talked to the kitchen and they were able to accommodate my request.  I went with the Spencer Steak.\\n\\nSpencer Steak ($29) - A Spencer steak is a 10oz. boneless rib eye.  Naturally I asked for my steak to be prepared medium rare.  All their steaks are cooked over red oak.  Some garlic chips and sauteed spinach accompanied my dish.  The steak tasted pretty good and was closer to being rare then medium rare.  My server explained to me that they do a true medium rare here and that many people are not used to it, and that she could put it back on the grill.  I thanked her but decided to eat the juicy steak as it was.  It was one of the better tasting steaks that I tried and surprised that the rib eye was under $30.\\n\\nBerry Shortcake ($6) - This consisted of berries, citrus shortcake, hibiscus syrup, whipped cream, and vanilla ice cream.  All the ingredients complemented each other really well and made for an incredible tasting dessert.  It was the perfect size to share with my part of 4.  All the desserts on the menu are priced at $6 and make for an affordable and delicious way to end the meal.\\n\\nOverall I was really impressed with my steak and dessert.  The service here was incredible as our server checked in on us throughout the course of the meal and made sure everyone was happy.  The next time I'm in the mood for steak and in Vegas, this will be the only place I will visit!\", useful=215, user_id='7W-p-PJlmrzg0mk3pWKoyQ'),\n",
       " Row(business_id='3XsOOHcDC-XP8LPbpbKwNg', cool=201, date='2018-01-19 14:06:43', funny=175, review_id='vTMgyKHKHpWR0u8kNgFAVA', stars=5.0, text=\"After spending a bunch of money on lunches and dinners during my stay in Las Vegas, it was good to find a place with reasonably priced breakfast options.  Located less then 2 miles from the Las Vegas City Center, this is an extremely convenient place to stop by for a quick bite to eat.   I know  everyone has been avoiding carbs, but for the few times that you do  choose to indulge in carbs, you will be hard pressed to find a better bagel.\\n\\nStandard bagel options include:\\nAsiago\\nBlueberry\\nChocolate Chip\\nCinnamon Raisin\\nCinnamon Sugar\\nCranberry\\nEgg\\nEverything\\nFrench Toast\\nGarlic\\n9-Grain\\nHoney Whole Wheat\\nOnion\\nPlain\\nPoppy Seed\\nPotato\\nPretzel\\nPumpernickel\\nSesame Seed\\n\\nWhile the following shmears are available:\\nPlain\\nOnion and Chive\\nSmoked Salmon\\nBlueberry\\nHoney Almond\\nStrawberry\\nGarden Veggie\\nGarlic & Herb\\nJalapeño Salsa\\nReduced Fat Plain\\nMaple\\n\\nThere are some gourmet bagel and special shmears available, depending on the season.  Honey almond is my personal favorite shmear.  Like all the other shmears it very creamy and light.  I love the taste of honey almond and it goes well with the cranberry bagel or cinnamon bagel.  \\n\\nOverall the bagels are soft, chewy and taste fresh whenever I have had them.  I've tried other chain brands and I have yet to find a better tasting bagel.  These bagels also remain fresh and taste great the following day.  I found this particular location to be clean and the staff to be friendly.  While other items such as sandwiches and egg sandwiches are available, I have yet to try those items.  I'll definitely be back whenever I'm in the Las Vegas area again.\", useful=210, user_id='7W-p-PJlmrzg0mk3pWKoyQ'),\n",
       " Row(business_id='PyKr1RX29U21B8NZqW88qw', cool=79, date='2010-02-08 06:37:57', funny=79, review_id='jZ7GeY_viZuYT2dkd08_SQ', stars=5.0, text=\"Why spend hundreds of dollars bribing douchebag VIP hosts and currying favor with fickle tourist divas in the hopes of MAYBE scoring the proverbial happy ending?  The Red Rooster is a sure bet: people come here to party and to get laid, and don't bullshit about it.  It's a club without all the pretense and poseurs!  \\n\\nRun by a genial middle-aged couple out of their sprawling private residence, the Red Rooster is just plain folks, drinking and dancing and getting frisky.  Definitely not a room full of Barbies and hardbodies... but on the plus side, you won't be judged, ridiculed or taken advantage of.  People are welcoming and friendly, and you can definitely get some here, if your standards aren't impossibly high (or even reasonably high, truth be told)!\\n\\nBut even if you're not into having sex with strangers in public, this is the best entertainment deal in Vegas, hands down!  The people watching is phenomenal, with reality shows, dramas and pornos playing out LIVE in every corner.  The liquor policy is BYOB, but you check your bottle in at the bar, and they label it with your name and will pour you drinks all night long as you wander around in a state of sensory overload.  I had a BLAST here, and I didn't have sex with anyone or engage in anything more risque than a little booty-shaking on the dance floor (yes, there is a dance floor and dj spinning Top 40 hits)!  The best part is, Looky-Lous (as I admittedly was) are not frowned upon, and it's prefectly cool to just have a drink and kick back and enjoy the show.\\nIf you do want to participate, though, there are ample opportunities and extensive facilities -- a couples-only area upstairs, and an orgy room, indoor pool area, and myriad cozy little fuck-worthy nooks & crannies downstairs.\\nDefinitely not for the shy or faint of heart... but if you're into a different kind of experience that takes the idea of recreation to the next level, try it out!\", useful=208, user_id='0o8HUzggoNKay9-ZMj3HqQ'),\n",
       " Row(business_id='t-o_Sraneime4DDhWrQRBA', cool=197, date='2017-11-16 06:18:42', funny=179, review_id='CC0kHI2mVkdsQWVUx3W2pg', stars=5.0, text='Unser eher bescheidenes Motel war in der Nähe des riesigen Wynn Las Vegas Hotel, auf das wir immer neidisch schauten. Es ist ein Luxushotel, das im Jahre 2005 eröffnet wurde und nach dem Immobilienmogul Steve Wynn benannt wurde. Gleich daneben ist das im gleichen Stil gebaute Schwesternhotel Encore.\\n\\nBei seiner Eröffnung war es das teuerste Hotel am Strip und auf der Welt. Mir war vor zwei Jahren nicht klar, dass dies ebenfalls ein Casino-Hotel ist, da das Wynn mit keinen von der Straße zu bewundernden Attraktionen Besucher anlockt. Sehr sehenswert ist der \"Lake of Dreams\", auf den Bilder projiziert werden.\\n\\nDas Hotel steht für absolute Superlative in allen Bereichen und dem Gast soll hier nur das Beste geboten werden. Man kann hier Zimmer von mit 58 m² bis zu Suiten mit 650 m² buchen. Man kann hier einen Ferrari oder Maserati aus dem hauseigenen Fuhrpark für einen Ausflug mieten. Man kann auch den Golfplatz mit 18 Löchern nutzen oder sich von den dort arbeitenden Spitzenköchen verwöhnen lassen.\\n\\nIm Hotel befindet sich die imposante Kunstsammlung des Erbauers und man kann Theaterproduktionen, eine Artistik Show oder die  Wasserrevue Le Rêve besuchen. Den Abend kann man auch in diversen exklusiven Nachtclubs ausklingen lassen.\\n\\nBei unserem Rundgang durch das Hotel sind wir erst durch eine exklusive Einkaufspassage mit Geschäften von Chanel und Louis Vuitton gelaufen und sind dann an Bars, tollen Restaurants, Hochzeitskapellen und einem gigantisch großen Casino mit 1.800 Spielautomaten und 26 Pokertischen vorbeigekommen. Alles wirkt hier sehr edel und das Publikum hier im Hotel ist sehr gehoben.\\n\\nEin wirklich tolles Hotel das in Las Vegas seinesgleichen sucht.', useful=207, user_id='--2vR0DIsmQ6WfcSzKWigw'),\n",
       " Row(business_id='7dHYudt6OOIjiaxkSvv3lQ', cool=200, date='2017-11-08 07:15:29', funny=183, review_id='K8LGQQyUEPYjYuh6Hp81yw', stars=5.0, text='Auf unserer Rundreise haben wir häufig die Restaurantkette In-n-Out Burger besucht, die mit dem Versprechen \"Quality You Can Taste\" wirbt. In Las Vegas , an der Sahara Avenue, sind wir eingekehrt, da die Filiale am Strip total überlaufen ist. Im Internet konnte ich nachlesen, dass es das Unternehmen bereits seit 1948 gibt und es mittlerweile ca. 300 Restaurants im Westen der USA und Texas gibt.\\n\\nAm späten Abend war hier der Andrang nur mittelmäßig. Die Auswahl war einfach, da es nur drei verschiedene Burger und Pommes zur Auswahl gibt. Wenn man es dann zur Bestellung geschafft hat, bekommt man eine Nummer, die dann aufgerufen wird sobald die Bestellung fertig ist.\\n\\nAuf die Burger kommt nur gekühltes und kein gefrorenes Frischfleisch, das von der eigenen Fleischfabrik innerhalb von 24 Stunden geliefert wird. Die Kartoffeln für die Pommes werden im Restaurant aus frischen Kartoffeln hergestellt. Ich konnte es selber in der offenen Küche sehen, wie ein Mitarbeiter die Kartoffeln geschält und gewürfelt hat.\\n\\nPreislich bewegt man sich trotzdem weit unten, da man auf eine umfangreiche Auswahl verzichtet. Wenn man mit mehreren Leuten hier einkehrt, sollten die anderen ein Plätzchen im Restaurant sichern, da diese zu den Stoßzeiten ebenfalls rar sind.\\n\\nVor den meisten Läden findet man zwei gepflanzte Palmen, die gekreuzt wachsen und eine Anspielung auf den Lieblingsfilm des Inhabers \"Eine total, total verrückte Welt\" sein sollen. Eine weitere Marotte sind angedruckte Bibelstellen auf den Unterseiten der Getränkebecher.\\n\\nVon der Qualität des Essens und dem Preis- Leistungsverhältnis waren wir wirklich begeistert. Unser Lieblingsrestaurant während unserer Rundreise.', useful=207, user_id='--2vR0DIsmQ6WfcSzKWigw'),\n",
       " Row(business_id='4ONpzAtnKbDig_e_O_8TtQ', cool=202, date='2017-12-14 13:16:26', funny=179, review_id='rqeYJ-F26J87InZbKdn8jg', stars=5.0, text='Auf unserer Casino Besichtigungstour sind wir auch auf den noch recht neuen Park \"The Park\" gestoßen, der sich neben der T-Mobile Arena, dem Monte Carlo Hotel und dem New York-New York Resort befindet. Die vielen schattigen Sitzmöglichkeiten haben uns zu einer kleinen Pause eingeladen.\\n\\nIm April 2016 wurde dieser erste öffentliche Park von Las Vegas eröffnet und ist aus meiner Sicht wirklich gelungen. So hat man hier ca. 250 für diesen Ort geeignet Bäume gepflanzt und weitere 7.000 Pflanzen. Ergänzt wird das Konzept des Landschaftsarchitekten !melk mit einigen Wasserinstallationen.\\n\\nHerzstück des Parks ist sicherlich die 40 Fuß hohe Skulptur \"Bliss Dance\" und die 18 Meter hohen Baumkonstruktionen aus Stahl. Diese spenden den Besuchern Schatten und leuchten in der Nacht wunderschön. Die aufwendigen Konstruktionen wurden von einem Schiffsbauer in den Niederlanden gebaut. \\n\\nDer Park schlängelt sich auf der rechten Seite des New York-New York Resort entlang und bietet den Besuchern einige Lokalitäten mit frischen Drinks und Essen. So gibt es hier Beerhaus, Bruxie, SakeRok und California Pizza Kitchen. Im Eingangsbereichs des New York-New York Resort kann man auch Burger von der angesagten Restaurantkette Shake Shack käuflich erwerben.\\n\\nWir hatten uns aber lediglich ein schattiges Plätzchen gesucht und das bunte Treiben um uns herum beobachtet. Dieser Park ist wie in den USA üblich top gepflegt und sauber. Hier kann man sehr gut von der schrillen Casinostadt abschalten. Ein wirklich toll angelegter Park.', useful=203, user_id='--2vR0DIsmQ6WfcSzKWigw')]"
      ]
     },
     "execution_count": 20,
     "metadata": {},
     "output_type": "execute_result"
    }
   ],
   "source": [
    "(review \\\n",
    "         #filter out all reviews with fewer than 5 stars    \n",
    "         .filter(review['stars']> 4)             \n",
    "        \n",
    "         #sort the reviews by the 'useful' count, greatest to least\n",
    "         .orderBy('useful', ascending=False)     \n",
    " \n",
    "         #display the top 10 results (the most useful 5-star reviews)\n",
    "        .take(10)                               \n",
    ")"
   ]
  },
  {
   "cell_type": "markdown",
   "metadata": {},
   "source": [
    " > First, I filtered the RDD by the stars column (keeping only reviews that gave over 4 stars, filtering out negative reviews).  I then called ```OrderBy``` to Order the reviews by the 'useful' column and chose ```ascending=False``` so the most useful reviews would be ranked first.  I then called ```take(10)``` to take the top ten rows (most useful positive reviews)."
   ]
  },
  {
   "cell_type": "markdown",
   "metadata": {},
   "source": [
    "### <font color=\"magenta\">Q4: During what hour of the day do most checkins occur?</font>"
   ]
  },
  {
   "cell_type": "code",
   "execution_count": 21,
   "metadata": {},
   "outputs": [
    {
     "data": {
      "text/plain": [
       "Row(business_id='--1UhMGODdWsrMastO9DZw', date='2016-04-26 19:49:16, 2016-08-30 18:36:57, 2016-10-15 02:45:18, 2016-11-18 01:54:50, 2017-04-20 18:39:06, 2017-05-03 17:58:02')"
      ]
     },
     "execution_count": 21,
     "metadata": {},
     "output_type": "execute_result"
    }
   ],
   "source": [
    "checkin.take(1)[0]"
   ]
  },
  {
   "cell_type": "markdown",
   "metadata": {},
   "source": [
    "#### Answer:"
   ]
  },
  {
   "cell_type": "code",
   "execution_count": 22,
   "metadata": {},
   "outputs": [],
   "source": [
    "datesplit = udf(lambda x: x.split(', '),ArrayType(StringType()))"
   ]
  },
  {
   "cell_type": "code",
   "execution_count": 23,
   "metadata": {},
   "outputs": [
    {
     "name": "stdout",
     "output_type": "stream",
     "text": [
      "+------------+-------+\n",
      "|checkin_hour|  count|\n",
      "+------------+-------+\n",
      "|           1|1561788|\n",
      "|          19|1502271|\n",
      "|           0|1491176|\n",
      "|           2|1411255|\n",
      "|          20|1350195|\n",
      "|          23|1344117|\n",
      "|          18|1272108|\n",
      "|          22|1257437|\n",
      "|          21|1238808|\n",
      "|           3|1078939|\n",
      "|          17|1006102|\n",
      "|          16| 852076|\n",
      "|           4| 747453|\n",
      "|          15| 617830|\n",
      "|           5| 485129|\n",
      "|          14| 418340|\n",
      "|           6| 321764|\n",
      "|          13| 270145|\n",
      "|           7| 231417|\n",
      "|          12| 178910|\n",
      "+------------+-------+\n",
      "only showing top 20 rows\n",
      "\n"
     ]
    }
   ],
   "source": [
    "(checkin \\\n",
    "        #apply udf and alias a new column name for the result\n",
    "        .select('business_id', datesplit('date').alias('dates'))\n",
    " \n",
    "        #create a new column of the exploded dates\n",
    "        .withColumn('checkin_date', explode('dates'))\n",
    " \n",
    "        #create a new column from the extracted hour from each date\n",
    "        .withColumn('checkin_hour', hour('checkin_date'))\n",
    " \n",
    "        #group all checkin_hours together\n",
    "        .groupBy('checkin_hour')    \n",
    " \n",
    "        #count the number of checkins each hour in the df\n",
    "        .count()                             \n",
    " \n",
    "        #sort the checkin counts by the count (greatest to least)\n",
    "        .sort('count', ascending=False)  \n",
    " \n",
    "        #show the result :)\n",
    "        .show()                                                 \n",
    ")"
   ]
  },
  {
   "cell_type": "markdown",
   "metadata": {},
   "source": [
    "> It looks like most check-ins occur at 1:00 AM (I assume this is UTC, which is 9:00 PM EST).  As mentioned in the comments above, first, I applied the user-defined function (```udf```) ```datesplit``` (same as the Spark Demo Notebook) to turn the string of checkin dates into an iterable (a list) of the dates.  I then called the ```alias()``` function to give the result a new column name ```dates```.  I then used ```withColumn``` to create a new column through the function ```explode``` which iterates through the list in the column ```dates``` and for each element of the list creates a new row in the DataFrame.  I then used ```withColumn``` again, combined with the ```hour()``` function to extract the hour from the datetime string in each ```dates``` row.  I then used ```groupBy``` to combine all common hours together in the new column ```checkin_hour```, called the ```count()``` function and then sorted the check_in hours greatest to least based on the checkin frequency by hour."
   ]
  },
  {
   "cell_type": "markdown",
   "metadata": {},
   "source": [
    "### <font color=\"magenta\">Q5: Sentiment analysis</font>\n",
    "\n",
    "a. List the 50 most common non-stopword words that are unique to *positive* reviews.\n",
    "b. List the 50 most common non-stopword words that are unique to *negative* reviews.\n",
    "\n",
    "You can use the stopword list that was introduced in the lecture materials or you can \n",
    "find/devise one of your own.\n",
    "\n",
    "You will need to define what constitutes a positive review and what constitutes a negative review.  We highly recommend that you use the number of stars to figure this out.  Be sure to provide a rationale for your choice"
   ]
  },
  {
   "cell_type": "markdown",
   "metadata": {},
   "source": [
    "As an example, consider the following two reviews:\n",
    "\n",
    "* Positive: The meal was great, and the service was the best we ever experienced.\n",
    "* Negative: The meal was awful.  It was the worst thing we ever experienced.\n",
    "\n",
    "Assume our stopwords are {'the','was','and','the','was','we','it'}\n",
    "\n",
    "* Positive unique: {'great', 'service', 'best'}\n",
    "\n",
    "* Negative unique: {'awful', 'worst', 'thing'}\n",
    "\n",
    "In this example, each unique word occurs just once, so the concept of \"top 50\" doesn't make sense.  For your data, you'll need to count the number of times each unique word occurs."
   ]
  },
  {
   "cell_type": "markdown",
   "metadata": {},
   "source": [
    "### extracting words and removing stopwords"
   ]
  },
  {
   "cell_type": "code",
   "execution_count": 24,
   "metadata": {},
   "outputs": [],
   "source": [
    "#filter out stopwords\n",
    "from pyspark.ml.feature import StopWordsRemover\n",
    "\n",
    "stopword_remover = StopWordsRemover(inputCol=\"words\", outputCol=\"words_filtered\")"
   ]
  },
  {
   "cell_type": "code",
   "execution_count": 25,
   "metadata": {},
   "outputs": [],
   "source": [
    "#extractswords using the pattern provided\n",
    "from pyspark.ml.feature import RegexTokenizer\n",
    "\n",
    "regexTokenizer = RegexTokenizer(inputCol=\"text\", outputCol=\"words\", pattern=\"[A-Za-z']+\", gaps=False)"
   ]
  },
  {
   "cell_type": "markdown",
   "metadata": {},
   "source": [
    "### positive reviews"
   ]
  },
  {
   "cell_type": "code",
   "execution_count": 26,
   "metadata": {},
   "outputs": [
    {
     "data": {
      "text/plain": [
       "DataFrame[stars: double, text: string]"
      ]
     },
     "execution_count": 26,
     "metadata": {},
     "output_type": "execute_result"
    }
   ],
   "source": [
    "reviews_positive = \\\n",
    "   (review\n",
    "          #filter out reviews under 4 stars\n",
    "          .filter(review['stars']> 3)\n",
    "    \n",
    "           #select two relevant columns from the datafrome\n",
    "          .select(['stars','text'])\n",
    "    )\n",
    "\n",
    "reviews_positive"
   ]
  },
  {
   "cell_type": "code",
   "execution_count": 27,
   "metadata": {},
   "outputs": [
    {
     "data": {
      "text/plain": [
       "DataFrame[stars: double, text: string, words: array<string>]"
      ]
     },
     "execution_count": 27,
     "metadata": {},
     "output_type": "execute_result"
    }
   ],
   "source": [
    "#apply the regextokenizer to turn the string of words in the 'text' of the review to a list of words\n",
    "#a new column is created called \"words\" as shown in the output\n",
    "regexTokenized_positive = regexTokenizer.transform(reviews_positive)\n",
    "\n",
    "regexTokenized_positive"
   ]
  },
  {
   "cell_type": "code",
   "execution_count": 28,
   "metadata": {},
   "outputs": [
    {
     "data": {
      "text/plain": [
       "DataFrame[stars: double, text: string, words: array<string>, words_filtered: array<string>]"
      ]
     },
     "execution_count": 28,
     "metadata": {},
     "output_type": "execute_result"
    }
   ],
   "source": [
    "#remove stopwords from the list of words determined\n",
    "pos_words_filtered = stopword_remover.transform(regexTokenized_positive)\n",
    "\n",
    "pos_words_filtered"
   ]
  },
  {
   "cell_type": "code",
   "execution_count": 29,
   "metadata": {},
   "outputs": [
    {
     "name": "stdout",
     "output_type": "stream",
     "text": [
      "+--------+-------+\n",
      "|    word|  count|\n",
      "+--------+-------+\n",
      "|   great|2417972|\n",
      "|   place|2121980|\n",
      "|    good|2116810|\n",
      "|    food|1990706|\n",
      "| service|1426307|\n",
      "|    time|1364825|\n",
      "|    like|1290539|\n",
      "|     one|1212285|\n",
      "|     get|1198172|\n",
      "|    back|1115380|\n",
      "|  really|1072418|\n",
      "|      go|1071680|\n",
      "|    also| 992098|\n",
      "|    best| 951816|\n",
      "|    love| 894950|\n",
      "|  always| 856346|\n",
      "|    nice| 846954|\n",
      "|friendly| 809624|\n",
      "|    well| 804011|\n",
      "| amazing| 781619|\n",
      "+--------+-------+\n",
      "only showing top 20 rows\n",
      "\n"
     ]
    }
   ],
   "source": [
    "positive_review_words = \\\n",
    "    (pos_words_filtered\n",
    "                        #select the words_filtered column\n",
    "                        .select('words_filtered')\n",
    "     \n",
    "                        #create a new column with exploded words\n",
    "                        .withColumn('word', explode('words_filtered'))\n",
    "     \n",
    "                        #group by the word column\n",
    "                        .groupBy('word')\n",
    "     \n",
    "                        #count the occurances of each word in the dataframe\n",
    "                        .count()         \n",
    "     \n",
    "                        #sort the words by their frequency in the dataframe\n",
    "                        .sort('count', ascending=False)               \n",
    "     )\n",
    "\n",
    "positive_review_words.show(20)"
   ]
  },
  {
   "cell_type": "markdown",
   "metadata": {},
   "source": [
    "### negative reviews"
   ]
  },
  {
   "cell_type": "code",
   "execution_count": 31,
   "metadata": {},
   "outputs": [
    {
     "data": {
      "text/plain": [
       "DataFrame[stars: double, text: string]"
      ]
     },
     "execution_count": 31,
     "metadata": {},
     "output_type": "execute_result"
    }
   ],
   "source": [
    "reviews_negative = (review.filter(review['stars']< 3)    #filter out reviews under 3 stars\n",
    "                          .select(['stars','text'])      #select two relevant columns from the datafrome\n",
    "                   )\n",
    "\n",
    "reviews_negative"
   ]
  },
  {
   "cell_type": "code",
   "execution_count": 32,
   "metadata": {},
   "outputs": [
    {
     "data": {
      "text/plain": [
       "DataFrame[stars: double, text: string, words: array<string>]"
      ]
     },
     "execution_count": 32,
     "metadata": {},
     "output_type": "execute_result"
    }
   ],
   "source": [
    "#apply the regextokenizer to turn the string of words in the 'text' of the review to a list of words within it\n",
    "regexTokenized_negative = regexTokenizer.transform(reviews_negative)\n",
    "\n",
    "regexTokenized_negative"
   ]
  },
  {
   "cell_type": "code",
   "execution_count": 33,
   "metadata": {},
   "outputs": [
    {
     "data": {
      "text/plain": [
       "DataFrame[stars: double, text: string, words: array<string>, words_filtered: array<string>]"
      ]
     },
     "execution_count": 33,
     "metadata": {},
     "output_type": "execute_result"
    }
   ],
   "source": [
    "#remove stopwords from the list of words determined\n",
    "neg_words_filtered = stopword_remover.transform(regexTokenized_negative)\n",
    "\n",
    "neg_words_filtered"
   ]
  },
  {
   "cell_type": "code",
   "execution_count": 34,
   "metadata": {},
   "outputs": [
    {
     "name": "stdout",
     "output_type": "stream",
     "text": [
      "+-------+------+\n",
      "|   word| count|\n",
      "+-------+------+\n",
      "|   food|877721|\n",
      "|    get|746011|\n",
      "|  place|734846|\n",
      "|service|726594|\n",
      "|    one|717197|\n",
      "|   like|703995|\n",
      "|   time|703768|\n",
      "|   back|689827|\n",
      "|   good|562820|\n",
      "|     us|550936|\n",
      "|     go|533843|\n",
      "|   even|517995|\n",
      "|   said|488881|\n",
      "|  never|474564|\n",
      "|   told|449981|\n",
      "|    got|437768|\n",
      "|  order|399585|\n",
      "|   came|373626|\n",
      "|  asked|366369|\n",
      "|   went|361685|\n",
      "+-------+------+\n",
      "only showing top 20 rows\n",
      "\n"
     ]
    }
   ],
   "source": [
    "negative_review_words = \\\n",
    "    (neg_words_filtered\n",
    "                       #select the words_filtered column\n",
    "                       .select('words_filtered')                     \n",
    "                       #create a new column with exploded words\n",
    "                       .withColumn('word', explode('words_filtered'))\n",
    "                       #group by the word column\n",
    "                       .groupBy('word')       \n",
    "                       #count the occurances of each word in the dataframe\n",
    "                       .count()             \n",
    "                       #sort the words by their frequency in the dataframe\n",
    "                       .sort('count', ascending=False)              \n",
    "    )\n",
    "\n",
    "negative_review_words.show(20)"
   ]
  },
  {
   "cell_type": "markdown",
   "metadata": {},
   "source": [
    "### Finding the Unique Words (running on whole dataframe)"
   ]
  },
  {
   "cell_type": "code",
   "execution_count": 31,
   "metadata": {},
   "outputs": [
    {
     "name": "stdout",
     "output_type": "stream",
     "text": [
      "+-------------+-----+\n",
      "|         word|count|\n",
      "+-------------+-----+\n",
      "|        eloff|  291|\n",
      "|         jabz|  203|\n",
      "|  ahhhhmazing|  161|\n",
      "|       fixler|  158|\n",
      "|          ceg|  139|\n",
      "|    heartwood|  138|\n",
      "|       popbar|  138|\n",
      "|       boothe|  127|\n",
      "|         emme|  127|\n",
      "|        artur|  124|\n",
      "|    delizioso|  119|\n",
      "|        safak|  116|\n",
      "| shutterbooth|  109|\n",
      "|       sidell|  109|\n",
      "|         homa|  100|\n",
      "|          imr|   99|\n",
      "|     perfects|   99|\n",
      "|       exquis|   98|\n",
      "|         jayd|   94|\n",
      "|    ahhmazing|   93|\n",
      "|         meux|   92|\n",
      "|      hobgood|   92|\n",
      "|    merveille|   92|\n",
      "|        ellkb|   91|\n",
      "|       sdpnbq|   91|\n",
      "|      koshari|   91|\n",
      "|        trego|   86|\n",
      "|       omalza|   85|\n",
      "|        hubba|   85|\n",
      "|scrumptiously|   84|\n",
      "|      kikuchi|   82|\n",
      "|   deeeeelish|   81|\n",
      "|       hiroba|   79|\n",
      "|        saura|   79|\n",
      "|      skaught|   78|\n",
      "|         etti|   78|\n",
      "|       saskia|   77|\n",
      "|      poprock|   73|\n",
      "|      bombbbb|   73|\n",
      "|        feutr|   73|\n",
      "|     cranmore|   72|\n",
      "|       winnah|   72|\n",
      "|  succulentes|   71|\n",
      "|         fbbc|   71|\n",
      "|          meu|   70|\n",
      "|        hiers|   70|\n",
      "|        tolle|   69|\n",
      "|     dulcinea|   69|\n",
      "|        yumma|   68|\n",
      "|     kozlik's|   68|\n",
      "+-------------+-----+\n",
      "only showing top 50 rows\n",
      "\n"
     ]
    }
   ],
   "source": [
    "#finding the 50 most common words in positive reviews that are not in any of the negative reviews.\n",
    "\n",
    "(positive_review_words.join(negative_review_words, on=\"word\", how=\"leftanti\")\n",
    "                      .sort('count', ascending=False)\n",
    "                      .show(50)\n",
    ")"
   ]
  },
  {
   "cell_type": "code",
   "execution_count": 32,
   "metadata": {},
   "outputs": [
    {
     "name": "stdout",
     "output_type": "stream",
     "text": [
      "+---------------+-----+\n",
      "|           word|count|\n",
      "+---------------+-----+\n",
      "|   ripoffreport|   72|\n",
      "|   unsubscribed|   53|\n",
      "|consumeraffairs|   41|\n",
      "|   unempathetic|   38|\n",
      "|       'manager|   37|\n",
      "|   'supervisor'|   32|\n",
      "|         pesimo|   31|\n",
      "|    coinsurance|   31|\n",
      "|           fahw|   30|\n",
      "|      discusted|   30|\n",
      "|         voiers|   30|\n",
      "|         sorrys|   30|\n",
      "|     unlawfully|   28|\n",
      "|         fakest|   28|\n",
      "|            amj|   27|\n",
      "|     nonpayment|   27|\n",
      "|       ontrac's|   26|\n",
      "|           cfpb|   26|\n",
      "|         theifs|   26|\n",
      "|       horibble|   26|\n",
      "|            hra|   25|\n",
      "|            ybt|   25|\n",
      "|     magistrate|   24|\n",
      "|     transunion|   23|\n",
      "|    voicemail's|   23|\n",
      "|           azag|   23|\n",
      "|        horable|   22|\n",
      "|       comenity|   21|\n",
      "|        frauded|   21|\n",
      "|        suppost|   20|\n",
      "|  unsubscribing|   20|\n",
      "|          nedia|   20|\n",
      "|       cobraron|   20|\n",
      "|     rescission|   19|\n",
      "|         rebill|   19|\n",
      "|      fraudster|   19|\n",
      "|   incompetance|   19|\n",
      "|        grossss|   19|\n",
      "|        searshc|   19|\n",
      "|        sunstar|   19|\n",
      "|      repossess|   19|\n",
      "|   unprincipled|   18|\n",
      "|   legionnaires|   18|\n",
      "|      ameripark|   18|\n",
      "|           tkps|   18|\n",
      "|    gaslighting|   18|\n",
      "|         humira|   18|\n",
      "|          fmcsa|   18|\n",
      "|          emele|   18|\n",
      "|       thummala|   17|\n",
      "+---------------+-----+\n",
      "only showing top 50 rows\n",
      "\n"
     ]
    }
   ],
   "source": [
    "#finding the 50 most common words in negative reviews that are not in any of the positive reviews\n",
    "\n",
    "(negative_review_words.join(positive_review_words, on=\"word\", how=\"leftanti\")\n",
    "                      .sort('count', ascending=False)\n",
    "                      .show(50)\n",
    ")"
   ]
  },
  {
   "cell_type": "markdown",
   "metadata": {},
   "source": [
    "> From the Apache Spark documentation, I gathered a way to use Feature Transformers to use ```RegexTokenizer``` to use a a given regex pattern to to create a new column that is filled with a list of words extracted from the input column's string and ```StopwordsRemover``` to create a new column that removes from the input column accepted stopwords from Spark's database.  To get a dataframe of the most common words to positive and negative reviews, I use a similar process to the last exercise where I called ```explode``` on the column with the list of words used in each review, performed a ```groupBy``` to group all common words and then called ```.count()```.  I then sorted the column by the ```count``` greatest to least.  To get the words unique to positive reviews, I performed a join using \"leftanti\" to get the words that are in positive reviews but not in negative reviews."
   ]
  },
  {
   "cell_type": "code",
   "execution_count": null,
   "metadata": {},
   "outputs": [],
   "source": []
  }
 ],
 "metadata": {
  "kernelspec": {
   "display_name": "Python 3",
   "language": "python",
   "name": "python3"
  },
  "language_info": {
   "codemirror_mode": {
    "name": "ipython",
    "version": 3
   },
   "file_extension": ".py",
   "mimetype": "text/x-python",
   "name": "python",
   "nbconvert_exporter": "python",
   "pygments_lexer": "ipython3",
   "version": "3.7.3"
  }
 },
 "nbformat": 4,
 "nbformat_minor": 2
}
