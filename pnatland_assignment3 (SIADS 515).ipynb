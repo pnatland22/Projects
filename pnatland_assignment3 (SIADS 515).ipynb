{
 "cells": [
  {
   "cell_type": "markdown",
   "metadata": {},
   "source": [
    "Before you turn this problem in, make sure everything runs as expected. First, **restart the kernel** (in the menubar, select Kernel$\\rightarrow$Restart) and then **run all cells** (in the menubar, select Cell$\\rightarrow$Run All).\n",
    "\n",
    "Make sure you fill in any place that says `YOUR CODE HERE` or \"YOUR ANSWER HERE\"."
   ]
  },
  {
   "cell_type": "code",
   "execution_count": 1,
   "metadata": {},
   "outputs": [],
   "source": [
    "# Please add your name and University of Michagan uniqname here...\n",
    "\n",
    "NAME = 'Paul Natland'\n",
    "UMICH_UNIQNAME = 'pnatland'"
   ]
  },
  {
   "cell_type": "code",
   "execution_count": 2,
   "metadata": {},
   "outputs": [
    {
     "data": {
      "text/plain": [
       "'\\nACKNOWLEDGEMENTS: For this assignment, I benefited from lecture videos, searches on Stacks Overflow & RapidTables, and conversations on SLACK\\n'"
      ]
     },
     "execution_count": 2,
     "metadata": {},
     "output_type": "execute_result"
    }
   ],
   "source": [
    "\"\"\"\n",
    "ACKNOWLEDGEMENTS: For this assignment, I benefited from lecture videos, searches on Stacks Overflow & RapidTables, and conversations on SLACK\n",
    "\"\"\""
   ]
  },
  {
   "cell_type": "markdown",
   "metadata": {},
   "source": [
    "---"
   ]
  },
  {
   "cell_type": "code",
   "execution_count": 3,
   "metadata": {
    "deletable": false,
    "editable": false,
    "nbgrader": {
     "checksum": "7f6d3df4c122f3689a18bb68364d8026",
     "grade": false,
     "grade_id": "cell-b788751832e526dc",
     "locked": true,
     "schema_version": 1,
     "solution": false
    }
   },
   "outputs": [],
   "source": [
    "version = \"v2.3.060120\""
   ]
  },
  {
   "cell_type": "markdown",
   "metadata": {
    "deletable": false,
    "editable": false,
    "nbgrader": {
     "checksum": "02851cbdfd3070fcfdde82d5282ec812",
     "grade": false,
     "grade_id": "cell-308c9d70ee0428b0",
     "locked": true,
     "schema_version": 1,
     "solution": false
    }
   },
   "source": [
    "# SIADS 515 Week 3 Homework (HW3)\n",
    "\n",
    "\n",
    "Think of this assignment in the following way:  it's your first day on the job and you've been given a notebook that was authored by someone who is no longer with your company.  You've been asked to fix it.  There are errors in it, and some of it was not completed by the original author.  You're lucky, though, as there are assertions\n",
    "sprinkled throughout the notebook to help guide you along the way.\n",
    "\n",
    "\n",
    "Top-level goal of notebook:\n",
    "Read a CSV file into a pandas DataFrame and add specific columns to it.\n",
    "These columns are added by applying functions to specific columns.\n",
    "The columns to add include:\n",
    "1. A datetime column that converts \"Garmin time\" to standard (unix epoch) time.  Note that Garmin doesn't use standard epoch offsets for their timestamps.  Rather than using the number of seconds that have elapsed since midnight on January 1, 1970, they use the number of seconds from midnight on December 31, 1989.\n",
    "\n",
    "2. A conversion of \"semicircles\" of latitude and longitude to two different formats: degrees, minutes, seconds 3-tuples and fractional degrees.  For example, a latitude of 504719750 semicircles corresponds to a 3-tuple of degrees, minutes and seconds of (42, 18, 18.43) and 42.305121 degrees.\n",
    "\n",
    "3. A \"normalized speed\" column that consists of the values for speed modified to remove outliers by replacing them with upper and lower bounds as well as normalized to z-values (i.e. by subtracting the mean from each value and dividing the result by the standard deviation).\n",
    "\n",
    "In addition, you will need to complete a function that looks at the difference between sequential rows to determine whether the cyclist is slowing down or not.\n",
    "\n",
    "Your task for this assignment is to debug this notebook to produce the desired results as shown in the assertions below.\n",
    "\n"
   ]
  },
  {
   "cell_type": "code",
   "execution_count": 4,
   "metadata": {},
   "outputs": [],
   "source": [
    "#corrected import statement\n",
    "import pandas as pd"
   ]
  },
  {
   "cell_type": "code",
   "execution_count": 5,
   "metadata": {},
   "outputs": [],
   "source": [
    "#corrected import statement\n",
    "import numpy as np"
   ]
  },
  {
   "cell_type": "code",
   "execution_count": 6,
   "metadata": {},
   "outputs": [],
   "source": [
    "ride = pd.read_csv('assets/ride_final2.csv')"
   ]
  },
  {
   "cell_type": "code",
   "execution_count": 7,
   "metadata": {},
   "outputs": [
    {
     "data": {
      "text/html": [
       "<div>\n",
       "<style scoped>\n",
       "    .dataframe tbody tr th:only-of-type {\n",
       "        vertical-align: middle;\n",
       "    }\n",
       "\n",
       "    .dataframe tbody tr th {\n",
       "        vertical-align: top;\n",
       "    }\n",
       "\n",
       "    .dataframe thead th {\n",
       "        text-align: right;\n",
       "    }\n",
       "</style>\n",
       "<table border=\"1\" class=\"dataframe\">\n",
       "  <thead>\n",
       "    <tr style=\"text-align: right;\">\n",
       "      <th></th>\n",
       "      <th>Timestamp</th>\n",
       "      <th>Latitude</th>\n",
       "      <th>Longitude</th>\n",
       "      <th>Distance</th>\n",
       "      <th>Altitude</th>\n",
       "      <th>Speed</th>\n",
       "    </tr>\n",
       "  </thead>\n",
       "  <tbody>\n",
       "    <tr>\n",
       "      <th>0</th>\n",
       "      <td>896018545</td>\n",
       "      <td>504719750</td>\n",
       "      <td>-998493490</td>\n",
       "      <td>10.87</td>\n",
       "      <td>285.8</td>\n",
       "      <td>1.773</td>\n",
       "    </tr>\n",
       "    <tr>\n",
       "      <th>1</th>\n",
       "      <td>896018560</td>\n",
       "      <td>504717676</td>\n",
       "      <td>-998501870</td>\n",
       "      <td>71.85</td>\n",
       "      <td>285.0</td>\n",
       "      <td>5.533</td>\n",
       "    </tr>\n",
       "    <tr>\n",
       "      <th>2</th>\n",
       "      <td>896018566</td>\n",
       "      <td>504716354</td>\n",
       "      <td>-998506792</td>\n",
       "      <td>108.02</td>\n",
       "      <td>284.0</td>\n",
       "      <td>6.485</td>\n",
       "    </tr>\n",
       "    <tr>\n",
       "      <th>3</th>\n",
       "      <td>896018575</td>\n",
       "      <td>504714055</td>\n",
       "      <td>-998515244</td>\n",
       "      <td>170.23</td>\n",
       "      <td>284.0</td>\n",
       "      <td>6.951</td>\n",
       "    </tr>\n",
       "    <tr>\n",
       "      <th>4</th>\n",
       "      <td>896018584</td>\n",
       "      <td>504711900</td>\n",
       "      <td>-998523278</td>\n",
       "      <td>229.27</td>\n",
       "      <td>285.0</td>\n",
       "      <td>6.224</td>\n",
       "    </tr>\n",
       "  </tbody>\n",
       "</table>\n",
       "</div>"
      ],
      "text/plain": [
       "   Timestamp   Latitude  Longitude  Distance  Altitude  Speed\n",
       "0  896018545  504719750 -998493490     10.87     285.8  1.773\n",
       "1  896018560  504717676 -998501870     71.85     285.0  5.533\n",
       "2  896018566  504716354 -998506792    108.02     284.0  6.485\n",
       "3  896018575  504714055 -998515244    170.23     284.0  6.951\n",
       "4  896018584  504711900 -998523278    229.27     285.0  6.224"
      ]
     },
     "execution_count": 7,
     "metadata": {},
     "output_type": "execute_result"
    }
   ],
   "source": [
    "ride.head()"
   ]
  },
  {
   "cell_type": "markdown",
   "metadata": {},
   "source": [
    "# Answer to #1"
   ]
  },
  {
   "cell_type": "code",
   "execution_count": 8,
   "metadata": {},
   "outputs": [],
   "source": [
    "def garmin_time_to_datetime(series):\n",
    "    \"\"\"Convert Garmin FIT time by adding the number of \n",
    "    seconds from January 1, 1970 to December 31, 1989.\n",
    "    \"\"\"\n",
    "    #corrected the value for the number of seconds from 64000000 s\n",
    "    return pd.to_datetime(series + 631065600, unit='s')"
   ]
  },
  {
   "cell_type": "code",
   "execution_count": 9,
   "metadata": {},
   "outputs": [],
   "source": [
    "ride['Timestamp_datetime'] = ride.Timestamp.map(garmin_time_to_datetime)"
   ]
  },
  {
   "cell_type": "code",
   "execution_count": 10,
   "metadata": {},
   "outputs": [
    {
     "data": {
      "text/html": [
       "<div>\n",
       "<style scoped>\n",
       "    .dataframe tbody tr th:only-of-type {\n",
       "        vertical-align: middle;\n",
       "    }\n",
       "\n",
       "    .dataframe tbody tr th {\n",
       "        vertical-align: top;\n",
       "    }\n",
       "\n",
       "    .dataframe thead th {\n",
       "        text-align: right;\n",
       "    }\n",
       "</style>\n",
       "<table border=\"1\" class=\"dataframe\">\n",
       "  <thead>\n",
       "    <tr style=\"text-align: right;\">\n",
       "      <th></th>\n",
       "      <th>Timestamp</th>\n",
       "      <th>Latitude</th>\n",
       "      <th>Longitude</th>\n",
       "      <th>Distance</th>\n",
       "      <th>Altitude</th>\n",
       "      <th>Speed</th>\n",
       "      <th>Timestamp_datetime</th>\n",
       "    </tr>\n",
       "  </thead>\n",
       "  <tbody>\n",
       "    <tr>\n",
       "      <th>0</th>\n",
       "      <td>896018545</td>\n",
       "      <td>504719750</td>\n",
       "      <td>-998493490</td>\n",
       "      <td>10.87</td>\n",
       "      <td>285.8</td>\n",
       "      <td>1.773</td>\n",
       "      <td>2018-05-23 14:02:25</td>\n",
       "    </tr>\n",
       "    <tr>\n",
       "      <th>1</th>\n",
       "      <td>896018560</td>\n",
       "      <td>504717676</td>\n",
       "      <td>-998501870</td>\n",
       "      <td>71.85</td>\n",
       "      <td>285.0</td>\n",
       "      <td>5.533</td>\n",
       "      <td>2018-05-23 14:02:40</td>\n",
       "    </tr>\n",
       "    <tr>\n",
       "      <th>2</th>\n",
       "      <td>896018566</td>\n",
       "      <td>504716354</td>\n",
       "      <td>-998506792</td>\n",
       "      <td>108.02</td>\n",
       "      <td>284.0</td>\n",
       "      <td>6.485</td>\n",
       "      <td>2018-05-23 14:02:46</td>\n",
       "    </tr>\n",
       "    <tr>\n",
       "      <th>3</th>\n",
       "      <td>896018575</td>\n",
       "      <td>504714055</td>\n",
       "      <td>-998515244</td>\n",
       "      <td>170.23</td>\n",
       "      <td>284.0</td>\n",
       "      <td>6.951</td>\n",
       "      <td>2018-05-23 14:02:55</td>\n",
       "    </tr>\n",
       "    <tr>\n",
       "      <th>4</th>\n",
       "      <td>896018584</td>\n",
       "      <td>504711900</td>\n",
       "      <td>-998523278</td>\n",
       "      <td>229.27</td>\n",
       "      <td>285.0</td>\n",
       "      <td>6.224</td>\n",
       "      <td>2018-05-23 14:03:04</td>\n",
       "    </tr>\n",
       "  </tbody>\n",
       "</table>\n",
       "</div>"
      ],
      "text/plain": [
       "   Timestamp   Latitude  Longitude  Distance  Altitude  Speed  \\\n",
       "0  896018545  504719750 -998493490     10.87     285.8  1.773   \n",
       "1  896018560  504717676 -998501870     71.85     285.0  5.533   \n",
       "2  896018566  504716354 -998506792    108.02     284.0  6.485   \n",
       "3  896018575  504714055 -998515244    170.23     284.0  6.951   \n",
       "4  896018584  504711900 -998523278    229.27     285.0  6.224   \n",
       "\n",
       "   Timestamp_datetime  \n",
       "0 2018-05-23 14:02:25  \n",
       "1 2018-05-23 14:02:40  \n",
       "2 2018-05-23 14:02:46  \n",
       "3 2018-05-23 14:02:55  \n",
       "4 2018-05-23 14:03:04  "
      ]
     },
     "execution_count": 10,
     "metadata": {},
     "output_type": "execute_result"
    }
   ],
   "source": [
    "ride.head()"
   ]
  },
  {
   "cell_type": "markdown",
   "metadata": {},
   "source": [
    "# Answer to #2"
   ]
  },
  {
   "cell_type": "code",
   "execution_count": 11,
   "metadata": {},
   "outputs": [],
   "source": [
    "from numpy import datetime64\n",
    "assert ride.Timestamp_datetime.values[0] == datetime64('2018-05-23T14:02:25.000000000')"
   ]
  },
  {
   "cell_type": "code",
   "execution_count": 12,
   "metadata": {},
   "outputs": [],
   "source": [
    "# solution\n",
    "def semicircles_to_degrees(semicircles):\n",
    "    '''\n",
    "    Convert semicircles to degrees\n",
    "    '''\n",
    "    #below changed from 2**32 based on conversions found online\n",
    "    max_31_bit_int = 2**31\n",
    "    return semicircles * (180/max_31_bit_int)"
   ]
  },
  {
   "cell_type": "code",
   "execution_count": 13,
   "metadata": {},
   "outputs": [],
   "source": [
    "#original code provided\n",
    "# def semicircles_to_degrees(semicircles):\n",
    "#     '''\n",
    "#     Convert semicircles to degrees\n",
    "#     '''\n",
    "#     max_32_bit_int = 2**32\n",
    "#     return semicircles * (180/max_32_bit_int)"
   ]
  },
  {
   "cell_type": "code",
   "execution_count": 14,
   "metadata": {},
   "outputs": [],
   "source": [
    "#solution\n",
    "def degrees_to_dms(degrees_fraction):\n",
    "    ''' Convert degrees to degree, minute, second 3-tuples'''\n",
    "    degrees = int(degrees_fraction)\n",
    "    #should be int from research online (e.g. RapidTables)\n",
    "    minutes = int((degrees_fraction - degrees) * 60)\n",
    "    seconds = np.round((degrees_fraction - degrees - minutes/60) * 3600,2)\n",
    "    return (degrees, abs(minutes), abs(seconds))"
   ]
  },
  {
   "cell_type": "code",
   "execution_count": 15,
   "metadata": {},
   "outputs": [],
   "source": [
    "#original code provided\n",
    "# def degrees_to_dms(degrees_fraction):\n",
    "#     ''' Convert degrees to degree, minute, second 3-tuples'''\n",
    "#     degrees = int(degrees_fraction)\n",
    "#     minutes = (degrees_fraction - degrees) * 60\n",
    "#     seconds = np.round((degrees_fraction - degrees - minutes/60) * 3600,2)\n",
    "#     return (degrees, abs(minutes), abs(seconds))"
   ]
  },
  {
   "cell_type": "code",
   "execution_count": 16,
   "metadata": {},
   "outputs": [],
   "source": [
    "def dms_to_degrees(d,m,s):\n",
    "    ''' Convert degrees, minutes, seconds to fractional degrees'''\n",
    "    return d+m/60+s/3600"
   ]
  },
  {
   "cell_type": "code",
   "execution_count": 17,
   "metadata": {},
   "outputs": [
    {
     "data": {
      "text/plain": [
       "42.28333333333333"
      ]
     },
     "execution_count": 17,
     "metadata": {},
     "output_type": "execute_result"
    }
   ],
   "source": [
    "dms_to_degrees(*degrees_to_dms(42.2833333333))"
   ]
  },
  {
   "cell_type": "code",
   "execution_count": 18,
   "metadata": {},
   "outputs": [],
   "source": [
    "assert dms_to_degrees(*degrees_to_dms(42.2833333333)) == 42.28333333333333"
   ]
  },
  {
   "cell_type": "code",
   "execution_count": 19,
   "metadata": {},
   "outputs": [],
   "source": [
    "ride['Latitude_degrees'] = ride['Latitude'].map(semicircles_to_degrees)"
   ]
  },
  {
   "cell_type": "code",
   "execution_count": 20,
   "metadata": {},
   "outputs": [],
   "source": [
    "ride['Longitude_degrees'] = ride['Longitude'].map(semicircles_to_degrees)"
   ]
  },
  {
   "cell_type": "code",
   "execution_count": 21,
   "metadata": {},
   "outputs": [],
   "source": [
    "ride['Latitude_dms'] = ride['Latitude_degrees'].map(degrees_to_dms)"
   ]
  },
  {
   "cell_type": "code",
   "execution_count": 22,
   "metadata": {},
   "outputs": [],
   "source": [
    "ride['Longitude_dms'] = ride['Longitude_degrees'].map(degrees_to_dms)"
   ]
  },
  {
   "cell_type": "code",
   "execution_count": 23,
   "metadata": {},
   "outputs": [
    {
     "data": {
      "text/html": [
       "<div>\n",
       "<style scoped>\n",
       "    .dataframe tbody tr th:only-of-type {\n",
       "        vertical-align: middle;\n",
       "    }\n",
       "\n",
       "    .dataframe tbody tr th {\n",
       "        vertical-align: top;\n",
       "    }\n",
       "\n",
       "    .dataframe thead th {\n",
       "        text-align: right;\n",
       "    }\n",
       "</style>\n",
       "<table border=\"1\" class=\"dataframe\">\n",
       "  <thead>\n",
       "    <tr style=\"text-align: right;\">\n",
       "      <th></th>\n",
       "      <th>Timestamp</th>\n",
       "      <th>Latitude</th>\n",
       "      <th>Longitude</th>\n",
       "      <th>Distance</th>\n",
       "      <th>Altitude</th>\n",
       "      <th>Speed</th>\n",
       "      <th>Timestamp_datetime</th>\n",
       "      <th>Latitude_degrees</th>\n",
       "      <th>Longitude_degrees</th>\n",
       "      <th>Latitude_dms</th>\n",
       "      <th>Longitude_dms</th>\n",
       "    </tr>\n",
       "  </thead>\n",
       "  <tbody>\n",
       "    <tr>\n",
       "      <th>0</th>\n",
       "      <td>896018545</td>\n",
       "      <td>504719750</td>\n",
       "      <td>-998493490</td>\n",
       "      <td>10.87</td>\n",
       "      <td>285.8</td>\n",
       "      <td>1.773</td>\n",
       "      <td>2018-05-23 14:02:25</td>\n",
       "      <td>42.305121</td>\n",
       "      <td>-83.692758</td>\n",
       "      <td>(42, 18, 18.43)</td>\n",
       "      <td>(-83, 41, 33.93)</td>\n",
       "    </tr>\n",
       "    <tr>\n",
       "      <th>1</th>\n",
       "      <td>896018560</td>\n",
       "      <td>504717676</td>\n",
       "      <td>-998501870</td>\n",
       "      <td>71.85</td>\n",
       "      <td>285.0</td>\n",
       "      <td>5.533</td>\n",
       "      <td>2018-05-23 14:02:40</td>\n",
       "      <td>42.304947</td>\n",
       "      <td>-83.693460</td>\n",
       "      <td>(42, 18, 17.81)</td>\n",
       "      <td>(-83, 41, 36.46)</td>\n",
       "    </tr>\n",
       "    <tr>\n",
       "      <th>2</th>\n",
       "      <td>896018566</td>\n",
       "      <td>504716354</td>\n",
       "      <td>-998506792</td>\n",
       "      <td>108.02</td>\n",
       "      <td>284.0</td>\n",
       "      <td>6.485</td>\n",
       "      <td>2018-05-23 14:02:46</td>\n",
       "      <td>42.304836</td>\n",
       "      <td>-83.693872</td>\n",
       "      <td>(42, 18, 17.41)</td>\n",
       "      <td>(-83, 41, 37.94)</td>\n",
       "    </tr>\n",
       "    <tr>\n",
       "      <th>3</th>\n",
       "      <td>896018575</td>\n",
       "      <td>504714055</td>\n",
       "      <td>-998515244</td>\n",
       "      <td>170.23</td>\n",
       "      <td>284.0</td>\n",
       "      <td>6.951</td>\n",
       "      <td>2018-05-23 14:02:55</td>\n",
       "      <td>42.304643</td>\n",
       "      <td>-83.694581</td>\n",
       "      <td>(42, 18, 16.72)</td>\n",
       "      <td>(-83, 41, 40.49)</td>\n",
       "    </tr>\n",
       "    <tr>\n",
       "      <th>4</th>\n",
       "      <td>896018584</td>\n",
       "      <td>504711900</td>\n",
       "      <td>-998523278</td>\n",
       "      <td>229.27</td>\n",
       "      <td>285.0</td>\n",
       "      <td>6.224</td>\n",
       "      <td>2018-05-23 14:03:04</td>\n",
       "      <td>42.304463</td>\n",
       "      <td>-83.695254</td>\n",
       "      <td>(42, 18, 16.07)</td>\n",
       "      <td>(-83, 41, 42.92)</td>\n",
       "    </tr>\n",
       "  </tbody>\n",
       "</table>\n",
       "</div>"
      ],
      "text/plain": [
       "   Timestamp   Latitude  Longitude  Distance  Altitude  Speed  \\\n",
       "0  896018545  504719750 -998493490     10.87     285.8  1.773   \n",
       "1  896018560  504717676 -998501870     71.85     285.0  5.533   \n",
       "2  896018566  504716354 -998506792    108.02     284.0  6.485   \n",
       "3  896018575  504714055 -998515244    170.23     284.0  6.951   \n",
       "4  896018584  504711900 -998523278    229.27     285.0  6.224   \n",
       "\n",
       "   Timestamp_datetime  Latitude_degrees  Longitude_degrees     Latitude_dms  \\\n",
       "0 2018-05-23 14:02:25         42.305121         -83.692758  (42, 18, 18.43)   \n",
       "1 2018-05-23 14:02:40         42.304947         -83.693460  (42, 18, 17.81)   \n",
       "2 2018-05-23 14:02:46         42.304836         -83.693872  (42, 18, 17.41)   \n",
       "3 2018-05-23 14:02:55         42.304643         -83.694581  (42, 18, 16.72)   \n",
       "4 2018-05-23 14:03:04         42.304463         -83.695254  (42, 18, 16.07)   \n",
       "\n",
       "      Longitude_dms  \n",
       "0  (-83, 41, 33.93)  \n",
       "1  (-83, 41, 36.46)  \n",
       "2  (-83, 41, 37.94)  \n",
       "3  (-83, 41, 40.49)  \n",
       "4  (-83, 41, 42.92)  "
      ]
     },
     "execution_count": 23,
     "metadata": {},
     "output_type": "execute_result"
    }
   ],
   "source": [
    "ride.head()"
   ]
  },
  {
   "cell_type": "code",
   "execution_count": 24,
   "metadata": {},
   "outputs": [
    {
     "data": {
      "text/html": [
       "<div>\n",
       "<style scoped>\n",
       "    .dataframe tbody tr th:only-of-type {\n",
       "        vertical-align: middle;\n",
       "    }\n",
       "\n",
       "    .dataframe tbody tr th {\n",
       "        vertical-align: top;\n",
       "    }\n",
       "\n",
       "    .dataframe thead th {\n",
       "        text-align: right;\n",
       "    }\n",
       "</style>\n",
       "<table border=\"1\" class=\"dataframe\">\n",
       "  <thead>\n",
       "    <tr style=\"text-align: right;\">\n",
       "      <th></th>\n",
       "      <th>Timestamp</th>\n",
       "      <th>Latitude</th>\n",
       "      <th>Longitude</th>\n",
       "      <th>Distance</th>\n",
       "      <th>Altitude</th>\n",
       "      <th>Speed</th>\n",
       "      <th>Timestamp_datetime</th>\n",
       "      <th>Latitude_degrees</th>\n",
       "      <th>Longitude_degrees</th>\n",
       "      <th>Latitude_dms</th>\n",
       "      <th>Longitude_dms</th>\n",
       "    </tr>\n",
       "  </thead>\n",
       "  <tbody>\n",
       "    <tr>\n",
       "      <th>209</th>\n",
       "      <td>896019779</td>\n",
       "      <td>504424374</td>\n",
       "      <td>-999047484</td>\n",
       "      <td>5930.37</td>\n",
       "      <td>278.2</td>\n",
       "      <td>4.740</td>\n",
       "      <td>2018-05-23 14:22:59</td>\n",
       "      <td>42.280363</td>\n",
       "      <td>-83.739193</td>\n",
       "      <td>(42, 16, 49.31)</td>\n",
       "      <td>(-83, 44, 21.09)</td>\n",
       "    </tr>\n",
       "    <tr>\n",
       "      <th>210</th>\n",
       "      <td>896019785</td>\n",
       "      <td>504424487</td>\n",
       "      <td>-999051230</td>\n",
       "      <td>5955.96</td>\n",
       "      <td>278.0</td>\n",
       "      <td>4.059</td>\n",
       "      <td>2018-05-23 14:23:05</td>\n",
       "      <td>42.280372</td>\n",
       "      <td>-83.739507</td>\n",
       "      <td>(42, 16, 49.34)</td>\n",
       "      <td>(-83, 44, 22.22)</td>\n",
       "    </tr>\n",
       "    <tr>\n",
       "      <th>211</th>\n",
       "      <td>896019788</td>\n",
       "      <td>504425416</td>\n",
       "      <td>-999051046</td>\n",
       "      <td>5965.33</td>\n",
       "      <td>278.0</td>\n",
       "      <td>3.042</td>\n",
       "      <td>2018-05-23 14:23:08</td>\n",
       "      <td>42.280450</td>\n",
       "      <td>-83.739491</td>\n",
       "      <td>(42, 16, 49.62)</td>\n",
       "      <td>(-83, 44, 22.17)</td>\n",
       "    </tr>\n",
       "    <tr>\n",
       "      <th>212</th>\n",
       "      <td>896019791</td>\n",
       "      <td>504425984</td>\n",
       "      <td>-999050165</td>\n",
       "      <td>5973.35</td>\n",
       "      <td>278.0</td>\n",
       "      <td>2.267</td>\n",
       "      <td>2018-05-23 14:23:11</td>\n",
       "      <td>42.280498</td>\n",
       "      <td>-83.739417</td>\n",
       "      <td>(42, 16, 49.79)</td>\n",
       "      <td>(-83, 44, 21.9)</td>\n",
       "    </tr>\n",
       "    <tr>\n",
       "      <th>213</th>\n",
       "      <td>896019805</td>\n",
       "      <td>504426837</td>\n",
       "      <td>-999050457</td>\n",
       "      <td>5981.77</td>\n",
       "      <td>278.2</td>\n",
       "      <td>0.000</td>\n",
       "      <td>2018-05-23 14:23:25</td>\n",
       "      <td>42.280569</td>\n",
       "      <td>-83.739442</td>\n",
       "      <td>(42, 16, 50.05)</td>\n",
       "      <td>(-83, 44, 21.99)</td>\n",
       "    </tr>\n",
       "  </tbody>\n",
       "</table>\n",
       "</div>"
      ],
      "text/plain": [
       "     Timestamp   Latitude  Longitude  Distance  Altitude  Speed  \\\n",
       "209  896019779  504424374 -999047484   5930.37     278.2  4.740   \n",
       "210  896019785  504424487 -999051230   5955.96     278.0  4.059   \n",
       "211  896019788  504425416 -999051046   5965.33     278.0  3.042   \n",
       "212  896019791  504425984 -999050165   5973.35     278.0  2.267   \n",
       "213  896019805  504426837 -999050457   5981.77     278.2  0.000   \n",
       "\n",
       "     Timestamp_datetime  Latitude_degrees  Longitude_degrees     Latitude_dms  \\\n",
       "209 2018-05-23 14:22:59         42.280363         -83.739193  (42, 16, 49.31)   \n",
       "210 2018-05-23 14:23:05         42.280372         -83.739507  (42, 16, 49.34)   \n",
       "211 2018-05-23 14:23:08         42.280450         -83.739491  (42, 16, 49.62)   \n",
       "212 2018-05-23 14:23:11         42.280498         -83.739417  (42, 16, 49.79)   \n",
       "213 2018-05-23 14:23:25         42.280569         -83.739442  (42, 16, 50.05)   \n",
       "\n",
       "        Longitude_dms  \n",
       "209  (-83, 44, 21.09)  \n",
       "210  (-83, 44, 22.22)  \n",
       "211  (-83, 44, 22.17)  \n",
       "212   (-83, 44, 21.9)  \n",
       "213  (-83, 44, 21.99)  "
      ]
     },
     "execution_count": 24,
     "metadata": {},
     "output_type": "execute_result"
    }
   ],
   "source": [
    "ride.tail()"
   ]
  },
  {
   "cell_type": "markdown",
   "metadata": {},
   "source": [
    "# Answer to #3"
   ]
  },
  {
   "cell_type": "code",
   "execution_count": 25,
   "metadata": {},
   "outputs": [],
   "source": [
    "from numpy import round\n",
    "last_row = ride.iloc[213]\n",
    "assert round(last_row.Latitude_degrees,6) == 42.280569\n",
    "assert round(last_row.Longitude_degrees,6) == -83.739442\n",
    "\n",
    "assert last_row.Latitude_dms == (42, 16, 50.05)\n",
    "assert last_row.Longitude_dms == (-83,44,21.99)\n",
    "\n",
    "\n",
    "## this was the original assert before the correction noted on SLACK ##\n",
    "#assert last_row.Latitude_dms == (42,17,9.95)"
   ]
  },
  {
   "cell_type": "code",
   "execution_count": 26,
   "metadata": {},
   "outputs": [],
   "source": [
    "# original code provided\n",
    "# def normalize(df, pd_series_name, nsd=2)\n",
    "#     '''\n",
    "#     Take all values that are outside some bound (mean +- 2 sd by default)\n",
    "#     and convert them to the appropriate bound.\n",
    "#     Scale the results to z-scores before returning them\n",
    "#     '''\n",
    "#     df = df.copy()\n",
    "#     pd_series = df[pd_series_name].astype(float)\n",
    "\n",
    "#     # Find upper and lower bound for outliers\n",
    "#     avg = np.mean(pd_series)\n",
    "#     sd  = np.std(pd_series)\n",
    "\n",
    "#     # Calculate the bounds\n",
    "#     lower_bound = avg - nsd*sd\n",
    "#     upper_bound = avg + nsd*sd\n",
    "\n",
    "#     # Collapse in the outliers: replace them with appropriate bound\n",
    "#     df.loc[pd_series < lower_bound , pd_series_name ] = upper_bound\n",
    "#     df.loc[pd_series > upper_bound , pd_series_name ] = upper_bound\n",
    "    \n",
    "#     return (df[pd_series_name] - avg) / sd"
   ]
  },
  {
   "cell_type": "code",
   "execution_count": 27,
   "metadata": {},
   "outputs": [],
   "source": [
    "# solution\n",
    "\n",
    "##missing colon in definition initialization\n",
    "def normalize(df, pd_series_name, nsd=2):\n",
    "    '''\n",
    "    Take all values that are outside some bound (mean +- 2 sd by default)\n",
    "    and convert them to the appropriate bound.\n",
    "    Scale the results to z-scores before returning them\n",
    "    '''\n",
    "    ## wanted to make copy of different name if using .copy() method\n",
    "    df_copy = df.copy()\n",
    "    pd_series = df_copy[pd_series_name].astype(float)\n",
    "\n",
    "    # Find upper and lower bound for outliers\n",
    "    avg = np.mean(pd_series)\n",
    "    sd  = np.std(pd_series)\n",
    "\n",
    "    # Calculate the bounds\n",
    "    lower_bound = avg - nsd*sd\n",
    "    upper_bound = avg + nsd*sd\n",
    "\n",
    "    # Collapse in the outliers: replace them with appropriate bound\n",
    "    ##the top statement said upper_bound but was corrected to lower_bound\n",
    "    df_copy.loc[pd_series < lower_bound , pd_series_name ] = lower_bound\n",
    "    df_copy.loc[pd_series > upper_bound , pd_series_name ] = upper_bound\n",
    "    \n",
    "    return (df_copy[pd_series_name] - avg) / sd"
   ]
  },
  {
   "cell_type": "code",
   "execution_count": 28,
   "metadata": {},
   "outputs": [],
   "source": [
    "ride['Speed_normalized'] = normalize(ride,'Speed')"
   ]
  },
  {
   "cell_type": "code",
   "execution_count": 29,
   "metadata": {},
   "outputs": [
    {
     "data": {
      "text/plain": [
       "2.0"
      ]
     },
     "metadata": {},
     "output_type": "display_data"
    },
    {
     "data": {
      "text/plain": [
       "-2.0"
      ]
     },
     "metadata": {},
     "output_type": "display_data"
    },
    {
     "data": {
      "text/plain": [
       " 2.000000    7\n",
       "-2.000000    3\n",
       " 0.989570    3\n",
       "-0.134973    3\n",
       " 0.511595    3\n",
       "            ..\n",
       " 1.924335    1\n",
       " 0.462165    1\n",
       " 0.750803    1\n",
       "-1.147855    1\n",
       " 1.368242    1\n",
       "Name: Speed_normalized, Length: 176, dtype: int64"
      ]
     },
     "metadata": {},
     "output_type": "display_data"
    }
   ],
   "source": [
    "#looking into data created\n",
    "display(ride['Speed_normalized'].max(), ride['Speed_normalized'].min(), ride['Speed_normalized'].value_counts())"
   ]
  },
  {
   "cell_type": "markdown",
   "metadata": {},
   "source": [
    "# Created Function"
   ]
  },
  {
   "cell_type": "code",
   "execution_count": 30,
   "metadata": {},
   "outputs": [],
   "source": [
    "from numpy import round\n",
    "assert round(ride.iloc[0].Speed_normalized,4) == -1.7737\n",
    "assert ride.iloc[213].Speed_normalized == -2.0"
   ]
  },
  {
   "cell_type": "code",
   "execution_count": 31,
   "metadata": {},
   "outputs": [],
   "source": [
    "# What was initially provided\n",
    "# def proportion_slowing(df,series_name):\n",
    "#     ''' Calculate the proportion of rows that represent a slower speed than the previous row'''\n",
    "#     return 0 # whoops -- ran out of time to do this before I got fired!"
   ]
  },
  {
   "cell_type": "markdown",
   "metadata": {},
   "source": [
    "### This is my first solution"
   ]
  },
  {
   "cell_type": "code",
   "execution_count": 32,
   "metadata": {},
   "outputs": [],
   "source": [
    "def proportion_slowing(df,series_name):\n",
    "    ''' Calculate the proportion of rows that represent a slower speed than the previous row'''\n",
    "    count = 0\n",
    "    initial_index = df.index[0]\n",
    "    for i in range(len(df[series_name])):\n",
    "        if i==0:\n",
    "            pass\n",
    "        elif df[series_name][i+initial_index] < df[series_name][(i-1)+initial_index]:\n",
    "            count +=1\n",
    "    return count/len(df[series_name])"
   ]
  },
  {
   "cell_type": "code",
   "execution_count": 33,
   "metadata": {},
   "outputs": [
    {
     "name": "stdout",
     "output_type": "stream",
     "text": [
      "4 ms ± 48.1 µs per loop (mean ± std. dev. of 7 runs, 100 loops each)\n"
     ]
    }
   ],
   "source": [
    "%timeit proportion_slowing(ride,'Speed_normalized')"
   ]
  },
  {
   "cell_type": "markdown",
   "metadata": {},
   "source": [
    "### This is my second solution which was much faster -- the .diff() method made a big difference"
   ]
  },
  {
   "cell_type": "code",
   "execution_count": 34,
   "metadata": {},
   "outputs": [],
   "source": [
    "def proportion_slowing(df,series_name):\n",
    "    ''' Calculate the proportion of rows that represent a slower speed than the previous row'''\n",
    "    return len(df.index[df[series_name].diff() < 0])/len(df[series_name])"
   ]
  },
  {
   "cell_type": "code",
   "execution_count": 35,
   "metadata": {},
   "outputs": [
    {
     "name": "stdout",
     "output_type": "stream",
     "text": [
      "321 µs ± 2.6 µs per loop (mean ± std. dev. of 7 runs, 1000 loops each)\n"
     ]
    }
   ],
   "source": [
    "%timeit proportion_slowing(ride,'Speed_normalized')"
   ]
  },
  {
   "cell_type": "code",
   "execution_count": 36,
   "metadata": {},
   "outputs": [],
   "source": [
    "from numpy import round\n",
    "assert round(proportion_slowing(ride,'Speed_normalized'),6) == 0.514019\n",
    "assert round(proportion_slowing(ride[:10],'Speed_normalized'),6) == 0.4\n",
    "assert round(proportion_slowing(ride[10:],'Speed_normalized'),6) == 0.519608"
   ]
  },
  {
   "cell_type": "code",
   "execution_count": 37,
   "metadata": {},
   "outputs": [],
   "source": [
    "## these are the original assertions before the correction indicated on SLACK ##\n",
    "# from numpy import round\n",
    "# assert round(proportion_slowing(ride,'Speed_normalized'),6) == 0.514019\n",
    "# assert round(proportion_slowing(ride[:10],'Speed_normalized'),6) == 0.018692\n",
    "# assert round(proportion_slowing(ride[10:],'Speed_normalized'),6) == 0.495327"
   ]
  },
  {
   "cell_type": "code",
   "execution_count": 38,
   "metadata": {
    "deletable": false,
    "editable": false,
    "nbgrader": {
     "checksum": "01e03860c2279a5018a3ff706b3c2645",
     "grade": true,
     "grade_id": "cell-6a2ee758b1e925bf",
     "locked": true,
     "points": 20,
     "schema_version": 1,
     "solution": false
    }
   },
   "outputs": [],
   "source": [
    "# This cell is here to assign points for your submission. The content will be manually graded.\n",
    "assert True == True, \"Assignment 3 has been submitted.\""
   ]
  },
  {
   "cell_type": "markdown",
   "metadata": {},
   "source": [
    "### This is an attempting to improve the %timeit for the result -- about 2 orders of magnitude faster than my faster function above"
   ]
  },
  {
   "cell_type": "code",
   "execution_count": 39,
   "metadata": {},
   "outputs": [],
   "source": [
    "speeds_normalized_tuple = tuple(ride.Speed_normalized.values)"
   ]
  },
  {
   "cell_type": "code",
   "execution_count": 40,
   "metadata": {},
   "outputs": [],
   "source": [
    "from functools import lru_cache\n",
    "\n",
    "@lru_cache(16)\n",
    "def proportion_slowing2(tuple):\n",
    "    ''' Calculate the proportion of rows that represent a slower speed than the previous row'''\n",
    "    diff_list = [x - tuple[i - 1] for i, x in enumerate(tuple) if i > 0]\n",
    "    count = 0\n",
    "    for value in diff_list:\n",
    "        if value < 0:\n",
    "            count += 1\n",
    "    return count/len(tuple)"
   ]
  },
  {
   "cell_type": "code",
   "execution_count": 41,
   "metadata": {},
   "outputs": [
    {
     "name": "stdout",
     "output_type": "stream",
     "text": [
      "4.01 µs ± 38.8 ns per loop (mean ± std. dev. of 7 runs, 100000 loops each)\n"
     ]
    }
   ],
   "source": [
    "%timeit proportion_slowing2(speeds_normalized_tuple)"
   ]
  },
  {
   "cell_type": "code",
   "execution_count": 42,
   "metadata": {},
   "outputs": [
    {
     "name": "stdout",
     "output_type": "stream",
     "text": [
      "79.9 µs ± 463 ns per loop (mean ± std. dev. of 7 runs, 10000 loops each)\n"
     ]
    }
   ],
   "source": [
    "%timeit proportion_slowing2.__wrapped__(speeds_normalized_tuple)"
   ]
  }
 ],
 "metadata": {
  "coursera": {
   "schema_names": [
    "mads_efficient_data_processing_v2_assignment3"
   ]
  },
  "kernelspec": {
   "display_name": "Python 3",
   "language": "python",
   "name": "python3"
  },
  "language_info": {
   "codemirror_mode": {
    "name": "ipython",
    "version": 3
   },
   "file_extension": ".py",
   "mimetype": "text/x-python",
   "name": "python",
   "nbconvert_exporter": "python",
   "pygments_lexer": "ipython3",
   "version": "3.7.3"
  }
 },
 "nbformat": 4,
 "nbformat_minor": 4
}
