{
 "cells": [
  {
   "cell_type": "markdown",
   "metadata": {},
   "source": [
    "Before you turn this problem in, make sure everything runs as expected. First, **restart the kernel** (in the menubar, select Kernel$\\rightarrow$Restart) and then **run all cells** (in the menubar, select Cell$\\rightarrow$Run All).\n",
    "\n",
    "Make sure you fill in any place that says `YOUR CODE HERE` or \"YOUR ANSWER HERE\"."
   ]
  },
  {
   "cell_type": "code",
   "execution_count": 1,
   "metadata": {},
   "outputs": [],
   "source": [
    "NAME = 'Paul Natland'\n",
    "UMICH_UNIQNAME = 'pnatland'"
   ]
  },
  {
   "cell_type": "code",
   "execution_count": 2,
   "metadata": {},
   "outputs": [
    {
     "data": {
      "text/plain": [
       "'\\nACKNOWLEDGEMENTS: For this assignment, I benefited from lecture videos, searches on Stacks Overflow, and conversations on SLACK\\n'"
      ]
     },
     "execution_count": 2,
     "metadata": {},
     "output_type": "execute_result"
    }
   ],
   "source": [
    "\"\"\"\n",
    "ACKNOWLEDGEMENTS: For this assignment, I benefited from lecture videos, searches on Stacks Overflow, and conversations on SLACK\n",
    "\"\"\""
   ]
  },
  {
   "cell_type": "markdown",
   "metadata": {},
   "source": [
    "---"
   ]
  },
  {
   "cell_type": "code",
   "execution_count": 3,
   "metadata": {
    "deletable": false,
    "editable": false,
    "nbgrader": {
     "checksum": "d06f9d3c2cee7a67177df71b6bcacabf",
     "grade": false,
     "grade_id": "cell-5301009c929e05f9",
     "locked": true,
     "schema_version": 1,
     "solution": false
    }
   },
   "outputs": [],
   "source": [
    "version = \"v2.3.060120\""
   ]
  },
  {
   "cell_type": "markdown",
   "metadata": {
    "deletable": false,
    "editable": false,
    "nbgrader": {
     "checksum": "5cad61f1ec7152e3ba728bf4d9a0f3aa",
     "grade": false,
     "grade_id": "cell-eece325edeb92b93",
     "locked": true,
     "schema_version": 1,
     "solution": false
    }
   },
   "source": [
    "# SIADS 515 Week 2 Homework (HW2)\n",
    "\n",
    "For this assignment you'll be using a Python class we've written that provides data from the `metrics.csv` and `position.csv` files in the `assets` directory. You will not need to directly access those files to complete the assingment, but you may want to see their contents."
   ]
  },
  {
   "cell_type": "code",
   "execution_count": 4,
   "metadata": {
    "deletable": false,
    "editable": false,
    "nbgrader": {
     "checksum": "25547f880f4152e46db1e2895bae2c43",
     "grade": false,
     "grade_id": "cell-3172bb643c3c1311",
     "locked": true,
     "schema_version": 1,
     "solution": false
    }
   },
   "outputs": [],
   "source": [
    "from assets.api import BikeRideApi\n",
    "api = BikeRideApi('assets/metrics.csv', 'assets/position.csv')"
   ]
  },
  {
   "cell_type": "markdown",
   "metadata": {
    "deletable": false,
    "editable": false,
    "nbgrader": {
     "checksum": "7b209ae7ee755384e4d7abc5e20864c6",
     "grade": false,
     "grade_id": "cell-c5211b6299848cac",
     "locked": true,
     "schema_version": 1,
     "solution": false
    }
   },
   "source": [
    "This class provides a `get_data()` method.\n",
    "\n",
    "You can use the built-in `help()` function to read the docstring for `get_data()` ..."
   ]
  },
  {
   "cell_type": "code",
   "execution_count": 5,
   "metadata": {
    "deletable": false,
    "editable": false,
    "nbgrader": {
     "checksum": "967b12b03945b14ac90581d7bc7ea362",
     "grade": false,
     "grade_id": "cell-5ed997788d8612ab",
     "locked": true,
     "schema_version": 1,
     "solution": false
    }
   },
   "outputs": [
    {
     "name": "stdout",
     "output_type": "stream",
     "text": [
      "Help on method get_data in module assets.api:\n",
      "\n",
      "get_data(dataset_name, offset, count=5) method of assets.api.BikeRideApi instance\n",
      "    Returns a tuple of \"count\" tuples starting from \"offset\" for the\n",
      "    given \"dataset\"\n",
      "    \n",
      "    Arguments:\n",
      "        dataset_name {str} -- The dataset to pull data from (\"metrics\"\n",
      "            or \"position\")\n",
      "        offset {int} -- Offset from the beginning of the dataset (must\n",
      "            be greater than 0)\n",
      "    \n",
      "    Keyword Arguments:\n",
      "        count {int} -- Number of rows to include (default: 5; must be \n",
      "            between 1 and 10 inclusive)\n",
      "    \n",
      "    Raises:\n",
      "        ValueError: Invalid parameter values\n",
      "    \n",
      "    Returns:\n",
      "        tuple -- A tuple of \"count\" tuples starting from \"offset\" for the\n",
      "            given \"dataset\". Returns an empty tuple when there is no more \n",
      "            data.\n",
      "\n"
     ]
    }
   ],
   "source": [
    "help(api.get_data)"
   ]
  },
  {
   "cell_type": "markdown",
   "metadata": {},
   "source": [
    "__Exploration__"
   ]
  },
  {
   "cell_type": "code",
   "execution_count": 6,
   "metadata": {
    "deletable": false,
    "editable": false,
    "nbgrader": {
     "checksum": "5008addfaa5fda38a5352f77c1f4cee8",
     "grade": false,
     "grade_id": "cell-2b260e690e975c97",
     "locked": true,
     "schema_version": 1,
     "solution": false
    }
   },
   "outputs": [
    {
     "data": {
      "text/plain": [
       "((10.87, 285.79999999999995, 1.773),\n",
       " (71.85, 285.0, 5.533),\n",
       " (108.02, 284.0, 6.485),\n",
       " (170.23, 284.0, 6.951),\n",
       " (229.27, 285.0, 6.224))"
      ]
     },
     "execution_count": 6,
     "metadata": {},
     "output_type": "execute_result"
    }
   ],
   "source": [
    "api.get_data('metrics', offset=0)"
   ]
  },
  {
   "cell_type": "code",
   "execution_count": 7,
   "metadata": {},
   "outputs": [
    {
     "data": {
      "text/plain": [
       "((504719750, -998493490),\n",
       " (504717676, -998501870),\n",
       " (504716354, -998506792),\n",
       " (504714055, -998515244),\n",
       " (504711900, -998523278))"
      ]
     },
     "execution_count": 7,
     "metadata": {},
     "output_type": "execute_result"
    }
   ],
   "source": [
    "api.get_data('position', offset=0)"
   ]
  },
  {
   "cell_type": "code",
   "execution_count": 8,
   "metadata": {},
   "outputs": [
    {
     "data": {
      "text/plain": [
       "504716354"
      ]
     },
     "execution_count": 8,
     "metadata": {},
     "output_type": "execute_result"
    }
   ],
   "source": [
    "api.get_data('position', offset=0)[2][0]"
   ]
  },
  {
   "cell_type": "code",
   "execution_count": 9,
   "metadata": {
    "deletable": false,
    "editable": false,
    "nbgrader": {
     "checksum": "318c9f93fcec3f265fd81c2d3dc4f27b",
     "grade": false,
     "grade_id": "cell-bb54ce773c542d56",
     "locked": true,
     "schema_version": 1,
     "solution": false
    }
   },
   "outputs": [
    {
     "data": {
      "text/plain": [
       "((229.27, 285.0, 6.224),)"
      ]
     },
     "execution_count": 9,
     "metadata": {},
     "output_type": "execute_result"
    }
   ],
   "source": [
    "api.get_data('metrics', offset=4, count=1)"
   ]
  },
  {
   "cell_type": "code",
   "execution_count": 10,
   "metadata": {},
   "outputs": [],
   "source": [
    "#not desired format\n",
    "#list(zip(api.get_data('metrics', offset=0), api.get_data('position', offset=0)))"
   ]
  },
  {
   "cell_type": "code",
   "execution_count": 11,
   "metadata": {},
   "outputs": [
    {
     "name": "stdout",
     "output_type": "stream",
     "text": [
      "207\n"
     ]
    }
   ],
   "source": [
    "n = 0\n",
    "while True:\n",
    "    try:\n",
    "        api.get_data('position', offset=n)[0]\n",
    "        n += 1\n",
    "    except IndexError:\n",
    "        break\n",
    "print(n)"
   ]
  },
  {
   "cell_type": "code",
   "execution_count": 12,
   "metadata": {},
   "outputs": [
    {
     "data": {
      "text/plain": [
       "(10.87, 285.79999999999995, 1.773, 504719750, -998493490)"
      ]
     },
     "execution_count": 12,
     "metadata": {},
     "output_type": "execute_result"
    }
   ],
   "source": [
    "#this is the desired format in tuple form\n",
    "api.get_data('metrics', offset=0)[0] + api.get_data('position', offset=0)[0]"
   ]
  },
  {
   "cell_type": "markdown",
   "metadata": {
    "deletable": false,
    "editable": false,
    "nbgrader": {
     "checksum": "39643aee627bcf5483d19953a62a7330",
     "grade": false,
     "grade_id": "cell-15e90b0f3ed617cd",
     "locked": true,
     "schema_version": 1,
     "solution": false
    }
   },
   "source": [
    "---\n",
    "**NOTE** \n",
    "\n",
    "The `get_data()` method artificially adds a delay of 1 millisecond to each call. This mimics the latency that is common when fetching data from network sources like an HTTP API. In the real world, 1 millisecond would be very low latency for an HTTP API, but it adds enough of a delay that you'll be able to see very noticable differences depending on how you optimize your code for efficency."
   ]
  },
  {
   "cell_type": "markdown",
   "metadata": {
    "deletable": false,
    "editable": false,
    "nbgrader": {
     "checksum": "ecd028c1fd49442d783c3b873b996a08",
     "grade": false,
     "grade_id": "cell-4c04d85cd25d3d89",
     "locked": true,
     "schema_version": 1,
     "solution": false
    }
   },
   "source": [
    "---\n",
    "## Question 1\n",
    "Write a **generator** called `combine_data()` that meets these requirements:\n",
    "  - It doesn't take any parameters.\n",
    "  - It must use the `get_data()` method descibed above.\n",
    "  - It must use a value for the \"count\" parameter greater than 1.\n",
    "  - It must use only the Python standard library (e.g. no IPython magic commands and no external libraries like Pandas)\n",
    "  - It must yield a combined structure for each row in the \"metrics\" and \"position\" datasets.\n",
    "  - Each yielded item must be an iterable (e.g. a list or a tuple is fine), that contains, in this order, the values for:\n",
    "    - \"Distance\"\n",
    "    - \"Altitude\"\n",
    "    - \"Speed\"\n",
    "    - \"Latitude\"\n",
    "    - \"Longitude\"\n",
    "  - It must stop yielding when either dataset runs out of data.\n",
    "  - It must handle cases other than the data in the `assets` directory (e.g. don't hard code dataset lengths, or other values).\n",
    "  \n",
    "Note:\n",
    "  - The `zip` built-in function could be useful in your solution, but is not required."
   ]
  },
  {
   "cell_type": "code",
   "execution_count": 13,
   "metadata": {
    "deletable": false,
    "nbgrader": {
     "checksum": "7a30c9aa03ef951189102b7bcdf3678f",
     "grade": false,
     "grade_id": "cell-a187bd9c83d3f08b",
     "locked": false,
     "schema_version": 1,
     "solution": true
    }
   },
   "outputs": [],
   "source": [
    "def combine_data():\n",
    "    num = 0\n",
    "    while True:\n",
    "        try:\n",
    "            result = api.get_data('metrics', offset=num, count = 2)[0] + api.get_data('position', offset=num, count = 2)[0]\n",
    "            num += 1\n",
    "        except IndexError:\n",
    "            break\n",
    "        yield result"
   ]
  },
  {
   "cell_type": "code",
   "execution_count": 14,
   "metadata": {},
   "outputs": [
    {
     "name": "stdout",
     "output_type": "stream",
     "text": [
      "210 ns ± 2.01 ns per loop (mean ± std. dev. of 7 runs, 1000000 loops each)\n"
     ]
    }
   ],
   "source": [
    "%%timeit\n",
    "gen = combine_data()"
   ]
  },
  {
   "cell_type": "code",
   "execution_count": 15,
   "metadata": {},
   "outputs": [
    {
     "name": "stdout",
     "output_type": "stream",
     "text": [
      "477 ms ± 1.24 ms per loop (mean ± std. dev. of 7 runs, 1 loop each)\n"
     ]
    }
   ],
   "source": [
    "%%timeit\n",
    "gen = combine_data()\n",
    "\n",
    "list(gen)"
   ]
  },
  {
   "cell_type": "code",
   "execution_count": 16,
   "metadata": {
    "deletable": false,
    "editable": false,
    "nbgrader": {
     "checksum": "6e4debea8a33385d7f4cea04cea87de9",
     "grade": true,
     "grade_id": "cell-7b8a95d40b760538",
     "locked": true,
     "points": 1,
     "schema_version": 1,
     "solution": false
    }
   },
   "outputs": [],
   "source": [
    "# Question 1, Check 1\n",
    "# 1 point\n",
    "\n",
    "gen = combine_data()\n",
    "\n",
    "# Make sure your solution is a generator\n",
    "from types import GeneratorType\n",
    "assert type(gen) == GeneratorType, 'wrong type, should be a generator'\n",
    "\n",
    "# There are no hidden tests in this cell."
   ]
  },
  {
   "cell_type": "code",
   "execution_count": 17,
   "metadata": {
    "deletable": false,
    "editable": false,
    "nbgrader": {
     "checksum": "6b74f9ab1c0cdfec59eac9fbd1c41d48",
     "grade": true,
     "grade_id": "cell-bc023ea9d5ff26ca",
     "locked": true,
     "points": 1,
     "schema_version": 1,
     "solution": false
    }
   },
   "outputs": [],
   "source": [
    "# Question 1, Check 2 \n",
    "# 1 point\n",
    "\n",
    "gen = combine_data()\n",
    "\n",
    "# Make sure you stop yielding when one dataset ends \n",
    "assert len(list(gen)) == 207, 'wrong number of results'\n",
    "\n",
    "# There are no hidden tests in this cell."
   ]
  },
  {
   "cell_type": "code",
   "execution_count": 18,
   "metadata": {
    "deletable": false,
    "editable": false,
    "nbgrader": {
     "checksum": "d6a6463eacec9db4e62ba64479aed1de",
     "grade": true,
     "grade_id": "cell-ab0589a1a1ff0854",
     "locked": true,
     "points": 1,
     "schema_version": 1,
     "solution": false
    }
   },
   "outputs": [],
   "source": [
    "# Question 1, Check 3\n",
    "# 1 point.\n",
    "\n",
    "gen = combine_data()\n",
    "\n",
    "# Make sure your solution yields the correct 1st row\n",
    "assert next(gen) == (10.87, 285.79999999999995, 1.773, 504719750, -998493490), 'incorrect data'\n",
    "\n",
    "# Make sure your solution yields the correct 2nd row\n",
    "assert next(gen) == (71.85, 285.0, 5.533, 504717676, -998501870), 'incorrect data'\n",
    "\n",
    "# Make sure your solution yields the correct 3rd row\n",
    "assert next(gen) == (108.02, 284.0, 6.485, 504716354, -998506792), 'incorrect data'\n",
    "\n",
    "# There are no hidden tests in this cell."
   ]
  },
  {
   "cell_type": "code",
   "execution_count": 19,
   "metadata": {
    "deletable": false,
    "editable": false,
    "nbgrader": {
     "checksum": "4a32679d7fa18276a0e2c3cf33c2d047",
     "grade": true,
     "grade_id": "cell-5891a33ffe23f717",
     "locked": true,
     "points": 1,
     "schema_version": 1,
     "solution": false
    }
   },
   "outputs": [],
   "source": [
    "# Question 1, Check 4\n",
    "# 1 point\n",
    "\n",
    "# There are hidden tests in this cell to check that get_data() is called\n",
    "# NOTE: To get this check to pass, your solution just needs to call get_data()"
   ]
  },
  {
   "cell_type": "code",
   "execution_count": 20,
   "metadata": {
    "deletable": false,
    "editable": false,
    "nbgrader": {
     "checksum": "4c1020db658dc7d6e890385140fb6c6d",
     "grade": true,
     "grade_id": "cell-ba7c1a8f9e8160c2",
     "locked": true,
     "points": 1,
     "schema_version": 1,
     "solution": false
    }
   },
   "outputs": [],
   "source": [
    "# Question 1, Check 5\n",
    "# 1 point.\n",
    "\n",
    "# NOTE: To get this test to pass, your solution needs to either not specify the \"count\"\n",
    "# param, or specifiy a value of greater than 1 for the \"count\" param.\n",
    "\n",
    "# There are hidden tests in this cell to check that get_data() is called with \"count\" > 1"
   ]
  },
  {
   "cell_type": "code",
   "execution_count": 21,
   "metadata": {
    "deletable": false,
    "editable": false,
    "nbgrader": {
     "checksum": "bc3595406ac68a4ba197e72b30dc2257",
     "grade": true,
     "grade_id": "cell-07c5c64ac223bf52",
     "locked": true,
     "points": 5,
     "schema_version": 1,
     "solution": false
    }
   },
   "outputs": [],
   "source": [
    "# Question 1, Check 6\n",
    "# 5 points\n",
    "\n",
    "# There are hidden tests in this cell to check that at least 90% rows are correct for the given data."
   ]
  },
  {
   "cell_type": "code",
   "execution_count": 22,
   "metadata": {
    "deletable": false,
    "editable": false,
    "nbgrader": {
     "checksum": "84afd76a403cf80f1c4576d07160c072",
     "grade": true,
     "grade_id": "cell-9dbe37c3bb9a9f79",
     "locked": true,
     "points": 5,
     "schema_version": 1,
     "solution": false
    }
   },
   "outputs": [],
   "source": [
    "# Question 1, Check 7\n",
    "# 5 points\n",
    "\n",
    "# There are hidden tests in this cell to check that at 100% rows are correct for the given data."
   ]
  },
  {
   "cell_type": "code",
   "execution_count": 23,
   "metadata": {
    "deletable": false,
    "editable": false,
    "nbgrader": {
     "checksum": "960ae252d758b0340d7308d97ed05395",
     "grade": true,
     "grade_id": "cell-0dae3f7986460f1a",
     "locked": true,
     "points": 5,
     "schema_version": 1,
     "solution": false
    }
   },
   "outputs": [],
   "source": [
    "# Question 1, Check 8\n",
    "# 5 points\n",
    "\n",
    "# There are hidden tests in this cell to check the solution with other input cases."
   ]
  },
  {
   "cell_type": "markdown",
   "metadata": {
    "deletable": false,
    "editable": false,
    "nbgrader": {
     "checksum": "48af43c532db9cfea31fdc291f3bb043",
     "grade": false,
     "grade_id": "cell-15c9d9111ab4fa1a",
     "locked": true,
     "schema_version": 1,
     "solution": false
    }
   },
   "source": [
    "---\n",
    "## Question 2\n",
    "Write a **function** called `get_speed()` that meets these requirements:\n",
    "  - It must take 1 parameter: an integer that represents the row of data from which to return the speed.\n",
    "  - It must use the `get_data()` method descibed above.\n",
    "  - It must use only the Python standard library (e.g. no IPython magic commands and no external libraries like Pandas)\n",
    "  - It must be decorated with the `lru_cache` decorator from the `functool` package in the standard library.\n",
    "  - It must return an numeric value for the speed at the given data index.\n",
    "  - It must return `None` if the data at the given index is empty (past the end of the dataset)\n",
    "  - It must handle cases other than the data in the `assets` directory (e.g. don't hard code dataset lengths, or other values).\n",
    "  \n",
    "Note:\n",
    "  - It is probably simplest to use a value for the \"count\" parameter of 1 (unlike the requirement in Question 1)."
   ]
  },
  {
   "cell_type": "code",
   "execution_count": 24,
   "metadata": {},
   "outputs": [
    {
     "data": {
      "text/plain": [
       "6.224"
      ]
     },
     "execution_count": 24,
     "metadata": {},
     "output_type": "execute_result"
    }
   ],
   "source": [
    "#gets the speed for row = offset\n",
    "api.get_data('metrics', offset=4, count=1)[0][2]"
   ]
  },
  {
   "cell_type": "markdown",
   "metadata": {},
   "source": [
    "### solution"
   ]
  },
  {
   "cell_type": "code",
   "execution_count": 25,
   "metadata": {
    "deletable": false,
    "nbgrader": {
     "checksum": "f7981b93d8a626db0de715b7a5b580bc",
     "grade": false,
     "grade_id": "cell-86088d3099578a9f",
     "locked": false,
     "schema_version": 1,
     "solution": true
    }
   },
   "outputs": [],
   "source": [
    "from functools import lru_cache\n",
    "\n",
    "@lru_cache(16)\n",
    "def get_speed(i):\n",
    "    # i equals the row number\n",
    "    while True:\n",
    "        try:\n",
    "            result = api.get_data('metrics', offset=i, count=1)[0][2]\n",
    "        except IndexError:\n",
    "            return None\n",
    "        return result"
   ]
  },
  {
   "cell_type": "markdown",
   "metadata": {
    "deletable": false,
    "editable": false,
    "nbgrader": {
     "checksum": "767214bf513b879abf6fbaaa61354fea",
     "grade": false,
     "grade_id": "cell-993d7451020e1eda",
     "locked": true,
     "schema_version": 1,
     "solution": false
    }
   },
   "source": [
    "The `%timeit` magic command is a quick way to judge the speed of a function."
   ]
  },
  {
   "cell_type": "code",
   "execution_count": 26,
   "metadata": {
    "deletable": false,
    "editable": false,
    "nbgrader": {
     "checksum": "df0f3738247e82dd75c6dd25fbf43c34",
     "grade": false,
     "grade_id": "cell-d6cb591ac1f8f9c1",
     "locked": true,
     "schema_version": 1,
     "solution": false
    }
   },
   "outputs": [
    {
     "name": "stdout",
     "output_type": "stream",
     "text": [
      "74.3 ns ± 0.912 ns per loop (mean ± std. dev. of 7 runs, 10000000 loops each)\n"
     ]
    }
   ],
   "source": [
    "%timeit get_speed(0)"
   ]
  },
  {
   "cell_type": "markdown",
   "metadata": {
    "deletable": false,
    "editable": false,
    "nbgrader": {
     "checksum": "b9376638b108b4bbd81ba4c145f1d0e0",
     "grade": false,
     "grade_id": "cell-40e0ebe2a557be1b",
     "locked": true,
     "schema_version": 1,
     "solution": false
    }
   },
   "source": [
    "The `lru_cache` decorator actually turns `get_speed` into a callable object so it still works like the original function, but also has some helpful properities. For example the `__wrapped__` property is the oringal function, so we can see how much worse its performance is by calling that with `%timeit` instead.\n",
    "\n",
    "This call should be significantly slower than the one above. Given that the underlying method is adding a 1 millisecond delay, the uncached version of `get_speed()` should take at least 1 millisecond."
   ]
  },
  {
   "cell_type": "code",
   "execution_count": 27,
   "metadata": {
    "deletable": false,
    "editable": false,
    "nbgrader": {
     "checksum": "97a8e215cbfa31af68fe488aed985f04",
     "grade": false,
     "grade_id": "cell-8289b8d63f2a049b",
     "locked": true,
     "schema_version": 1,
     "solution": false
    }
   },
   "outputs": [
    {
     "name": "stdout",
     "output_type": "stream",
     "text": [
      "1.14 ms ± 3.29 µs per loop (mean ± std. dev. of 7 runs, 1000 loops each)\n"
     ]
    }
   ],
   "source": [
    "# This cell will fail if get_speed() is not decorated with lru_cache\n",
    "\n",
    "%timeit get_speed.__wrapped__(0)"
   ]
  },
  {
   "cell_type": "code",
   "execution_count": 28,
   "metadata": {
    "deletable": false,
    "editable": false,
    "nbgrader": {
     "checksum": "a2c87c1cd0619abc73736992c89f7132",
     "grade": true,
     "grade_id": "cell-72816bab60b45bd8",
     "locked": true,
     "points": 1,
     "schema_version": 1,
     "solution": false
    }
   },
   "outputs": [],
   "source": [
    "# Question 2, Check 1\n",
    "# 1 point.\n",
    "\n",
    "# Make sure your solution uses the lru_cache decorator\n",
    "from functools import _lru_cache_wrapper\n",
    "assert type(get_speed) == _lru_cache_wrapper, 'solution must be decorated with the lru_cache decorator'\n",
    "\n",
    "# There are no hidden tests in this cell."
   ]
  },
  {
   "cell_type": "code",
   "execution_count": 29,
   "metadata": {
    "deletable": false,
    "editable": false,
    "nbgrader": {
     "checksum": "28243fa07a0ad86973e7465bffebac62",
     "grade": true,
     "grade_id": "cell-c115d45e02393b0b",
     "locked": true,
     "points": 1,
     "schema_version": 1,
     "solution": false
    }
   },
   "outputs": [],
   "source": [
    "# Question 2, Check 2\n",
    "# 1 point\n",
    "\n",
    "# Make sure your solution returns the correct values for the first 3 indexes\n",
    "assert get_speed(0) == 1.773, 'wrong data value'\n",
    "assert get_speed(1) == 5.533, 'wrong data value'\n",
    "assert get_speed(2) == 6.485, 'wrong data value'\n",
    "\n",
    "# There are no hidden tests in this cell."
   ]
  },
  {
   "cell_type": "code",
   "execution_count": 30,
   "metadata": {
    "deletable": false,
    "editable": false,
    "nbgrader": {
     "checksum": "d2e1b91ae17f7f255affbd7cb8a34bdb",
     "grade": true,
     "grade_id": "cell-3c0b8f6483a84020",
     "locked": true,
     "points": 1,
     "schema_version": 1,
     "solution": false
    }
   },
   "outputs": [],
   "source": [
    "# Question 2, Check 3\n",
    "# 1 point\n",
    "\n",
    "# Make sure your solution returns the None for indexes past the range of the dataset\n",
    "assert get_speed(214) == None, 'must return None for indexes past the range of the dataset'\n",
    "assert get_speed(1000) == None, 'must return None for indexes past the range of the dataset'\n",
    "\n",
    "# There are no hidden tests in this cell."
   ]
  },
  {
   "cell_type": "code",
   "execution_count": 31,
   "metadata": {
    "deletable": false,
    "editable": false,
    "nbgrader": {
     "checksum": "11fd6e1728efc4e504b2d29103d02437",
     "grade": true,
     "grade_id": "cell-80ba5d93436d25ee",
     "locked": true,
     "points": 4,
     "schema_version": 1,
     "solution": false
    }
   },
   "outputs": [],
   "source": [
    "# Question 2, Check 4\n",
    "# 4 points\n",
    "\n",
    "# There are hidden tests in this cell to check the solution returns at least 90% of the correct results."
   ]
  },
  {
   "cell_type": "code",
   "execution_count": 32,
   "metadata": {
    "deletable": false,
    "editable": false,
    "nbgrader": {
     "checksum": "8f97742dd392d237f2dab22e455d7303",
     "grade": true,
     "grade_id": "cell-b7389411925d4b8a",
     "locked": true,
     "points": 4,
     "schema_version": 1,
     "solution": false
    }
   },
   "outputs": [],
   "source": [
    "# Question 2, Check 5\n",
    "# 4 points\n",
    "\n",
    "# There are hidden tests in this cell to check the solution returns 100% of the correct results."
   ]
  },
  {
   "cell_type": "code",
   "execution_count": 33,
   "metadata": {
    "deletable": false,
    "editable": false,
    "nbgrader": {
     "checksum": "651a2dc49ed1f70a66e908b14cdbcdcd",
     "grade": true,
     "grade_id": "cell-05d07679deb8c897",
     "locked": true,
     "points": 4,
     "schema_version": 1,
     "solution": false
    }
   },
   "outputs": [],
   "source": [
    "# Question 2, Check 6\n",
    "# 4 points\n",
    "\n",
    "# There are hidden tests in this cell to check the solution with other input cases."
   ]
  },
  {
   "cell_type": "markdown",
   "metadata": {
    "deletable": false,
    "editable": false,
    "nbgrader": {
     "checksum": "766d4f0887e696a109aba8f519d41db6",
     "grade": false,
     "grade_id": "cell-5095efa230360360",
     "locked": true,
     "schema_version": 1,
     "solution": false
    }
   },
   "source": [
    "---\n",
    "## Question 2b\n",
    "Write a **generator** called `speed_rolling_average()` that meets these requirements:\n",
    "  - It must take 1 parameter: an integer that represents the number of rows over which to calculate a rolling average. This must default to 5.\n",
    "  - It must use the `get_speed()` method you implemented above for Question 2.\n",
    "  - It must use only the Python standard library (e.g. no IPython magic commands and no external libraries like Pandas)\n",
    "  - It must yield an numeric value for the average speed over the previous number of rows as defined by the `period` parameter.\n",
    "  - It must yield `None` if there have been fewer than `period` number of rows so far in the dataset.\n",
    "  - It must handle cases other than the data in the `assets` directory (e.g. don't hard code dataset lengths, or other values)."
   ]
  },
  {
   "cell_type": "markdown",
   "metadata": {},
   "source": [
    "### my better solution"
   ]
  },
  {
   "cell_type": "code",
   "execution_count": 34,
   "metadata": {},
   "outputs": [],
   "source": [
    "def speed_rolling_average(period=5):\n",
    "    # the parameter value represents the number of rows to consider for the rolling average\n",
    "    n = 0\n",
    "    while n < (period-1):\n",
    "        yield None\n",
    "        n+= 1\n",
    "    i = 0\n",
    "    while True:\n",
    "        try:\n",
    "            t = 0\n",
    "            speeds_to_average = []\n",
    "            while t < period:\n",
    "                value = get_speed(i+t)\n",
    "                speeds_to_average.append(value)\n",
    "                t += 1\n",
    "            yield sum(speeds_to_average)/len(speeds_to_average)\n",
    "            i += 1\n",
    "        except TypeError:\n",
    "            break"
   ]
  },
  {
   "cell_type": "code",
   "execution_count": 35,
   "metadata": {},
   "outputs": [
    {
     "name": "stdout",
     "output_type": "stream",
     "text": [
      "247 ms ± 929 µs per loop (mean ± std. dev. of 7 runs, 1 loop each)\n"
     ]
    }
   ],
   "source": [
    "%%timeit\n",
    "gen = speed_rolling_average(5)\n",
    "\n",
    "list(gen)"
   ]
  },
  {
   "cell_type": "markdown",
   "metadata": {},
   "source": [
    "### my first solution"
   ]
  },
  {
   "cell_type": "code",
   "execution_count": 36,
   "metadata": {},
   "outputs": [],
   "source": [
    "def speed_rolling_average(period=5):\n",
    "    # the parameter value represents the number of rows to consider for the rolling average\n",
    "    n = 0\n",
    "    while True:\n",
    "        try:\n",
    "            api.get_data('metrics', offset=n)[0]\n",
    "            n += 1\n",
    "        except IndexError:\n",
    "            break\n",
    "    for i in range(n):\n",
    "        if i < (period-1):\n",
    "            yield None\n",
    "        else:\n",
    "            break\n",
    "    for i in range(n):\n",
    "        try:\n",
    "            t = 0\n",
    "            speeds_to_average = []\n",
    "            while t < period:\n",
    "                value = get_speed(i+t)\n",
    "                speeds_to_average.append(value)\n",
    "                t += 1\n",
    "            yield sum(speeds_to_average)/len(speeds_to_average)\n",
    "        except TypeError:\n",
    "            break"
   ]
  },
  {
   "cell_type": "code",
   "execution_count": 37,
   "metadata": {},
   "outputs": [
    {
     "name": "stdout",
     "output_type": "stream",
     "text": [
      "494 ms ± 2.61 ms per loop (mean ± std. dev. of 7 runs, 1 loop each)\n"
     ]
    }
   ],
   "source": [
    "%%timeit\n",
    "gen = speed_rolling_average(5)\n",
    "\n",
    "list(gen)"
   ]
  },
  {
   "cell_type": "code",
   "execution_count": 38,
   "metadata": {
    "deletable": false,
    "nbgrader": {
     "checksum": "a78cd884c0a1ddad7687d1511f582a90",
     "grade": false,
     "grade_id": "cell-6491afffc16e3cc2",
     "locked": false,
     "schema_version": 1,
     "solution": true
    }
   },
   "outputs": [
    {
     "data": {
      "text/plain": [
       "214"
      ]
     },
     "execution_count": 38,
     "metadata": {},
     "output_type": "execute_result"
    }
   ],
   "source": [
    "gen = speed_rolling_average(5)\n",
    "\n",
    "len(list(gen))"
   ]
  },
  {
   "cell_type": "code",
   "execution_count": 39,
   "metadata": {
    "deletable": false,
    "editable": false,
    "nbgrader": {
     "checksum": "57312b96826394a227b5763679e8420a",
     "grade": true,
     "grade_id": "cell-6e87683e2f331c7a",
     "locked": true,
     "points": 1,
     "schema_version": 1,
     "solution": false
    }
   },
   "outputs": [],
   "source": [
    "# Question 2b, Check 1\n",
    "# 1 point.\n",
    "\n",
    "gen = speed_rolling_average(5)\n",
    "\n",
    "# Make sure your solution is a generator\n",
    "from types import GeneratorType\n",
    "assert type(gen) == GeneratorType, 'wrong type, should be a generator'\n",
    "\n",
    "# There are no hidden tests in this cell."
   ]
  },
  {
   "cell_type": "code",
   "execution_count": 40,
   "metadata": {
    "deletable": false,
    "editable": false,
    "nbgrader": {
     "checksum": "55a6d98fd868f1e5553a0bdb8ea3a55d",
     "grade": true,
     "grade_id": "cell-9f86de205d0cec1e",
     "locked": true,
     "points": 1,
     "schema_version": 1,
     "solution": false
    }
   },
   "outputs": [],
   "source": [
    "# Question 2b, Check 2 \n",
    "# 1 point\n",
    "\n",
    "gen = speed_rolling_average(5)\n",
    "\n",
    "# Make sure you stop yielding when one dataset ends \n",
    "assert len(list(gen)) == 214, 'wrong number of results'\n",
    "\n",
    "# There are no hidden tests in this cell."
   ]
  },
  {
   "cell_type": "code",
   "execution_count": 41,
   "metadata": {
    "deletable": false,
    "editable": false,
    "nbgrader": {
     "checksum": "f96431581e26f329de09beb1eca75d74",
     "grade": true,
     "grade_id": "cell-44de658595075419",
     "locked": true,
     "points": 1,
     "schema_version": 1,
     "solution": false
    }
   },
   "outputs": [],
   "source": [
    "# Question 2b, Check 3\n",
    "# 1 point.\n",
    "\n",
    "gen = speed_rolling_average(5)\n",
    "\n",
    "# Make sure your solution yields None for period-1 iterations\n",
    "assert next(gen) == None, 'should yield None for i < period'\n",
    "assert next(gen) == None, 'should yield None for i < period'\n",
    "assert next(gen) == None, 'should yield None for i < period'\n",
    "assert next(gen) == None, 'should yield None for i < period'\n",
    "\n",
    "# There are no hidden autograder tests in this cell."
   ]
  },
  {
   "cell_type": "code",
   "execution_count": 42,
   "metadata": {
    "deletable": false,
    "editable": false,
    "nbgrader": {
     "checksum": "5399cd62ff01e864acb0ce0cbd31e589",
     "grade": true,
     "grade_id": "cell-6e48c7fb42457bf1",
     "locked": true,
     "points": 2,
     "schema_version": 1,
     "solution": false
    }
   },
   "outputs": [],
   "source": [
    "# Question 2b, Check 4\n",
    "# 1 point.\n",
    "\n",
    "# Make sure your solution yields the correct first rolling average speed\n",
    "assert next(gen) == 5.3932, 'wrong data result'\n",
    "\n",
    "# Make sure your solution yields the correct second rolling average speed\n",
    "assert next(gen) == 6.1508, 'wrong data result'\n",
    "\n",
    "# There are no hidden tests in this cell."
   ]
  },
  {
   "cell_type": "code",
   "execution_count": 43,
   "metadata": {
    "deletable": false,
    "editable": false,
    "nbgrader": {
     "checksum": "f3ad79a48fe5531017a829a67719e6a9",
     "grade": true,
     "grade_id": "cell-0a497e5b983da4d0",
     "locked": true,
     "points": 5,
     "schema_version": 1,
     "solution": false
    }
   },
   "outputs": [],
   "source": [
    "# Question 2b, Check 5\n",
    "# 5 points\n",
    "\n",
    "# There are hidden tests in this cell to check the solution returns at least 90% of the correct results."
   ]
  },
  {
   "cell_type": "code",
   "execution_count": 44,
   "metadata": {
    "deletable": false,
    "editable": false,
    "nbgrader": {
     "checksum": "49f1d63797a9f393c6f5039309cd810f",
     "grade": true,
     "grade_id": "cell-8eaaf3f7099d8fa5",
     "locked": true,
     "points": 5,
     "schema_version": 1,
     "solution": false
    }
   },
   "outputs": [],
   "source": [
    "# Question 2b, Check 6\n",
    "# 5 points\n",
    "\n",
    "# There are hidden tests in this cell to check the solution returns 100% of the correct results."
   ]
  },
  {
   "cell_type": "code",
   "execution_count": null,
   "metadata": {},
   "outputs": [],
   "source": []
  }
 ],
 "metadata": {
  "coursera": {
   "schema_names": [
    "mads_efficient_data_processing_v2_assignment2"
   ]
  },
  "kernelspec": {
   "display_name": "Python 3",
   "language": "python",
   "name": "python3"
  },
  "language_info": {
   "codemirror_mode": {
    "name": "ipython",
    "version": 3
   },
   "file_extension": ".py",
   "mimetype": "text/x-python",
   "name": "python",
   "nbconvert_exporter": "python",
   "pygments_lexer": "ipython3",
   "version": "3.7.3"
  }
 },
 "nbformat": 4,
 "nbformat_minor": 2
}
